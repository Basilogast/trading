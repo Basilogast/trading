{
 "cells": [
  {
   "cell_type": "code",
   "execution_count": 1,
   "id": "472bbabd",
   "metadata": {},
   "outputs": [],
   "source": [
    "import pandas as pd\n",
    "import sys\n",
    "sys.path.append(r\"e:/work/IT/trading/MyCode/BollBacktest\")  # Add the directory to the Python path\n",
    "\n",
    "from BollBacktester import BollBacktester  # Import the class"
   ]
  },
  {
   "cell_type": "code",
   "execution_count": 2,
   "id": "69413b7e",
   "metadata": {},
   "outputs": [],
   "source": [
    "filepath = \"./data/one_minute.csv\"  # Updated to correct relative path\n",
    "symbol = \"GBPUSD\"\n",
    "\n",
    "start1 = \"2018-01-01\"\n",
    "end1 = \"2018-03-31\"\n",
    "start2 = \"2018-04-01\"\n",
    "end2 = \"2018-06-30\"\n",
    "start3 = \"2018-07-01\"\n",
    "end3 = \"2018-09-30\"\n",
    "start4 = \"2018-10-01\"\n",
    "end4 = \"2018-12-31\"\n",
    "\n",
    "end5 = \"2019-06-30\"\n",
    "\n",
    "ptc = 0.00007"
   ]
  },
  {
   "cell_type": "markdown",
   "id": "6a5a8362",
   "metadata": {},
   "source": [
    "__1. Quarter 2018__"
   ]
  },
  {
   "cell_type": "code",
   "execution_count": 3,
   "id": "e586a56f",
   "metadata": {},
   "outputs": [
    {
     "data": {
      "text/plain": [
       "BollBacktester(symbol = GBPUSD, start = 2018-01-01, end = 2018-03-31)"
      ]
     },
     "execution_count": 3,
     "metadata": {},
     "output_type": "execute_result"
    }
   ],
   "source": [
    "tester = BollBacktester(filepath = filepath, symbol = symbol, start = start1, end = end1, tc = ptc)\n",
    "tester"
   ]
  },
  {
   "cell_type": "code",
   "execution_count": 4,
   "id": "6747c8b5",
   "metadata": {},
   "outputs": [
    {
     "name": "stderr",
     "output_type": "stream",
     "text": [
      "2025-06-20 22:51:04,547 - INFO - setting up API-client for environment practice\n",
      "2025-06-20 22:51:04,547 - INFO - performing request https://api-fxpractice.oanda.com/v3/instruments/GBP_USD/candles\n",
      "2025-06-20 22:51:04,557 - DEBUG - Starting new HTTPS connection (1): api-fxpractice.oanda.com:443\n",
      "2025-06-20 22:51:04,830 - DEBUG - https://api-fxpractice.oanda.com:443 \"GET /v3/instruments/GBP_USD/candles?granularity=M1&count=5000 HTTP/1.1\" 200 104050\n",
      "2025-06-20 22:51:07,874 - INFO - performing request https://api-fxpractice.oanda.com/v3/instruments/GBP_USD/candles\n",
      "2025-06-20 22:51:08,046 - DEBUG - https://api-fxpractice.oanda.com:443 \"GET /v3/instruments/GBP_USD/candles?granularity=M1&count=5000&to=2025-06-17T04%3A01%3A00Z HTTP/1.1\" 200 103998\n",
      "2025-06-20 22:51:11,329 - INFO - performing request https://api-fxpractice.oanda.com/v3/instruments/GBP_USD/candles\n",
      "2025-06-20 22:51:11,612 - DEBUG - https://api-fxpractice.oanda.com:443 \"GET /v3/instruments/GBP_USD/candles?granularity=M1&count=5000&to=2025-06-11T16%3A01%3A00Z HTTP/1.1\" 200 102600\n",
      "2025-06-20 22:51:14,703 - INFO - performing request https://api-fxpractice.oanda.com/v3/instruments/GBP_USD/candles\n",
      "2025-06-20 22:51:14,945 - DEBUG - https://api-fxpractice.oanda.com:443 \"GET /v3/instruments/GBP_USD/candles?granularity=M1&count=5000&to=2025-06-06T04%3A04%3A00Z HTTP/1.1\" 200 101497\n",
      "2025-06-20 22:51:18,283 - INFO - performing request https://api-fxpractice.oanda.com/v3/instruments/GBP_USD/candles\n",
      "2025-06-20 22:51:18,591 - DEBUG - https://api-fxpractice.oanda.com:443 \"GET /v3/instruments/GBP_USD/candles?granularity=M1&count=5000&to=2025-06-02T16%3A19%3A00Z HTTP/1.1\" 200 104085\n",
      "2025-06-20 22:51:21,732 - INFO - performing request https://api-fxpractice.oanda.com/v3/instruments/GBP_USD/candles\n",
      "2025-06-20 22:51:21,929 - DEBUG - https://api-fxpractice.oanda.com:443 \"GET /v3/instruments/GBP_USD/candles?granularity=M1&count=5000&to=2025-05-28T04%3A32%3A00Z HTTP/1.1\" 200 100969\n",
      "2025-06-20 22:51:25,129 - INFO - performing request https://api-fxpractice.oanda.com/v3/instruments/GBP_USD/candles\n",
      "2025-06-20 22:51:25,346 - DEBUG - https://api-fxpractice.oanda.com:443 \"GET /v3/instruments/GBP_USD/candles?granularity=M1&count=5000&to=2025-05-22T16%3A12%3A00Z HTTP/1.1\" 200 103909\n",
      "2025-06-20 22:51:28,566 - INFO - performing request https://api-fxpractice.oanda.com/v3/instruments/GBP_USD/candles\n",
      "2025-06-20 22:51:28,881 - DEBUG - https://api-fxpractice.oanda.com:443 \"GET /v3/instruments/GBP_USD/candles?granularity=M1&count=5000&to=2025-05-19T04%3A31%3A00Z HTTP/1.1\" 200 102917\n",
      "2025-06-20 22:51:32,162 - INFO - performing request https://api-fxpractice.oanda.com/v3/instruments/GBP_USD/candles\n",
      "2025-06-20 22:51:32,414 - DEBUG - https://api-fxpractice.oanda.com:443 \"GET /v3/instruments/GBP_USD/candles?granularity=M1&count=5000&to=2025-05-13T16%3A24%3A00Z HTTP/1.1\" 200 105066\n",
      "2025-06-20 22:51:35,981 - INFO - performing request https://api-fxpractice.oanda.com/v3/instruments/GBP_USD/candles\n",
      "2025-06-20 22:51:36,282 - DEBUG - https://api-fxpractice.oanda.com:443 \"GET /v3/instruments/GBP_USD/candles?granularity=M1&count=5000&to=2025-05-08T04%3A48%3A00Z HTTP/1.1\" 200 103363\n",
      "2025-06-20 22:51:39,581 - INFO - performing request https://api-fxpractice.oanda.com/v3/instruments/GBP_USD/candles\n",
      "2025-06-20 22:51:39,783 - DEBUG - https://api-fxpractice.oanda.com:443 \"GET /v3/instruments/GBP_USD/candles?granularity=M1&count=5000&to=2025-05-02T16%3A29%3A00Z HTTP/1.1\" 200 104241\n",
      "2025-06-20 22:51:44,362 - INFO - performing request https://api-fxpractice.oanda.com/v3/instruments/GBP_USD/candles\n",
      "2025-06-20 22:51:44,683 - DEBUG - https://api-fxpractice.oanda.com:443 \"GET /v3/instruments/GBP_USD/candles?granularity=M1&count=5000&to=2025-04-29T04%3A24%3A00Z HTTP/1.1\" 200 103393\n",
      "2025-06-20 22:51:49,245 - INFO - performing request https://api-fxpractice.oanda.com/v3/instruments/GBP_USD/candles\n",
      "2025-06-20 22:51:49,445 - DEBUG - https://api-fxpractice.oanda.com:443 \"GET /v3/instruments/GBP_USD/candles?granularity=M1&count=5000&to=2025-04-23T16%3A13%3A00Z HTTP/1.1\" 200 104693\n",
      "2025-06-20 22:51:53,345 - INFO - performing request https://api-fxpractice.oanda.com/v3/instruments/GBP_USD/candles\n",
      "2025-06-20 22:51:53,656 - DEBUG - https://api-fxpractice.oanda.com:443 \"GET /v3/instruments/GBP_USD/candles?granularity=M1&count=5000&to=2025-04-18T04%3A18%3A00Z HTTP/1.1\" 200 104331\n",
      "2025-06-20 22:51:57,179 - INFO - performing request https://api-fxpractice.oanda.com/v3/instruments/GBP_USD/candles\n",
      "2025-06-20 22:51:57,362 - DEBUG - https://api-fxpractice.oanda.com:443 \"GET /v3/instruments/GBP_USD/candles?granularity=M1&count=5000&to=2025-04-14T16%3A03%3A00Z HTTP/1.1\" 200 110233\n",
      "2025-06-20 22:52:01,183 - INFO - performing request https://api-fxpractice.oanda.com/v3/instruments/GBP_USD/candles\n",
      "2025-06-20 22:52:01,548 - DEBUG - https://api-fxpractice.oanda.com:443 \"GET /v3/instruments/GBP_USD/candles?granularity=M1&count=5000&to=2025-04-09T03%3A52%3A00Z HTTP/1.1\" 200 109815\n",
      "2025-06-20 22:52:04,995 - INFO - performing request https://api-fxpractice.oanda.com/v3/instruments/GBP_USD/candles\n",
      "2025-06-20 22:52:05,533 - DEBUG - https://api-fxpractice.oanda.com:443 \"GET /v3/instruments/GBP_USD/candles?granularity=M1&count=5000&to=2025-04-03T15%3A28%3A00Z HTTP/1.1\" 200 103607\n",
      "2025-06-20 22:52:09,190 - INFO - performing request https://api-fxpractice.oanda.com/v3/instruments/GBP_USD/candles\n",
      "2025-06-20 22:52:09,492 - DEBUG - https://api-fxpractice.oanda.com:443 \"GET /v3/instruments/GBP_USD/candles?granularity=M1&count=5000&to=2025-03-31T03%3A31%3A00Z HTTP/1.1\" 200 100931\n",
      "2025-06-20 22:52:12,995 - INFO - performing request https://api-fxpractice.oanda.com/v3/instruments/GBP_USD/candles\n",
      "2025-06-20 22:52:13,211 - DEBUG - https://api-fxpractice.oanda.com:443 \"GET /v3/instruments/GBP_USD/candles?granularity=M1&count=5000&to=2025-03-25T15%3A39%3A00Z HTTP/1.1\" 200 101574\n",
      "2025-06-20 22:52:16,790 - INFO - performing request https://api-fxpractice.oanda.com/v3/instruments/GBP_USD/candles\n",
      "2025-06-20 22:52:16,980 - DEBUG - https://api-fxpractice.oanda.com:443 \"GET /v3/instruments/GBP_USD/candles?granularity=M1&count=5000&to=2025-03-20T03%3A58%3A00Z HTTP/1.1\" 200 100333\n"
     ]
    }
   ],
   "source": [
    "tester.download_recent_data(\"GBP_USD\", 100000, \"GBP_recent_data_1.csv\")"
   ]
  },
  {
   "cell_type": "code",
   "execution_count": 5,
   "id": "bbf0fe36",
   "metadata": {},
   "outputs": [],
   "source": [
    "tester.get_data_oanda(\"./data/GBP_recent_data_1.csv\", \"2025-03-11\", \"2025-04-03\")"
   ]
  },
  {
   "cell_type": "code",
   "execution_count": 6,
   "id": "1a31dff2",
   "metadata": {},
   "outputs": [
    {
     "data": {
      "text/html": [
       "<div>\n",
       "<style scoped>\n",
       "    .dataframe tbody tr th:only-of-type {\n",
       "        vertical-align: middle;\n",
       "    }\n",
       "\n",
       "    .dataframe tbody tr th {\n",
       "        vertical-align: top;\n",
       "    }\n",
       "\n",
       "    .dataframe thead th {\n",
       "        text-align: right;\n",
       "    }\n",
       "</style>\n",
       "<table border=\"1\" class=\"dataframe\">\n",
       "  <thead>\n",
       "    <tr style=\"text-align: right;\">\n",
       "      <th></th>\n",
       "      <th>price</th>\n",
       "      <th>spread</th>\n",
       "      <th>returns</th>\n",
       "    </tr>\n",
       "    <tr>\n",
       "      <th>time</th>\n",
       "      <th></th>\n",
       "      <th></th>\n",
       "      <th></th>\n",
       "    </tr>\n",
       "  </thead>\n",
       "  <tbody>\n",
       "    <tr>\n",
       "      <th>2025-03-14 16:05:00</th>\n",
       "      <td>1.291830</td>\n",
       "      <td>0.0</td>\n",
       "      <td>NaN</td>\n",
       "    </tr>\n",
       "    <tr>\n",
       "      <th>2025-03-14 16:06:00</th>\n",
       "      <td>1.292000</td>\n",
       "      <td>0.0</td>\n",
       "      <td>0.000132</td>\n",
       "    </tr>\n",
       "    <tr>\n",
       "      <th>2025-03-14 16:07:00</th>\n",
       "      <td>1.292255</td>\n",
       "      <td>0.0</td>\n",
       "      <td>0.000197</td>\n",
       "    </tr>\n",
       "    <tr>\n",
       "      <th>2025-03-14 16:08:00</th>\n",
       "      <td>1.292445</td>\n",
       "      <td>0.0</td>\n",
       "      <td>0.000147</td>\n",
       "    </tr>\n",
       "    <tr>\n",
       "      <th>2025-03-14 16:09:00</th>\n",
       "      <td>1.292470</td>\n",
       "      <td>0.0</td>\n",
       "      <td>0.000019</td>\n",
       "    </tr>\n",
       "    <tr>\n",
       "      <th>...</th>\n",
       "      <td>...</td>\n",
       "      <td>...</td>\n",
       "      <td>...</td>\n",
       "    </tr>\n",
       "    <tr>\n",
       "      <th>2025-04-03 23:55:00</th>\n",
       "      <td>1.309160</td>\n",
       "      <td>0.0</td>\n",
       "      <td>-0.000164</td>\n",
       "    </tr>\n",
       "    <tr>\n",
       "      <th>2025-04-03 23:56:00</th>\n",
       "      <td>1.308970</td>\n",
       "      <td>0.0</td>\n",
       "      <td>-0.000145</td>\n",
       "    </tr>\n",
       "    <tr>\n",
       "      <th>2025-04-03 23:57:00</th>\n",
       "      <td>1.308840</td>\n",
       "      <td>0.0</td>\n",
       "      <td>-0.000099</td>\n",
       "    </tr>\n",
       "    <tr>\n",
       "      <th>2025-04-03 23:58:00</th>\n",
       "      <td>1.308860</td>\n",
       "      <td>0.0</td>\n",
       "      <td>0.000015</td>\n",
       "    </tr>\n",
       "    <tr>\n",
       "      <th>2025-04-03 23:59:00</th>\n",
       "      <td>1.308930</td>\n",
       "      <td>0.0</td>\n",
       "      <td>0.000053</td>\n",
       "    </tr>\n",
       "  </tbody>\n",
       "</table>\n",
       "<p>20504 rows × 3 columns</p>\n",
       "</div>"
      ],
      "text/plain": [
       "                        price  spread   returns\n",
       "time                                           \n",
       "2025-03-14 16:05:00  1.291830     0.0       NaN\n",
       "2025-03-14 16:06:00  1.292000     0.0  0.000132\n",
       "2025-03-14 16:07:00  1.292255     0.0  0.000197\n",
       "2025-03-14 16:08:00  1.292445     0.0  0.000147\n",
       "2025-03-14 16:09:00  1.292470     0.0  0.000019\n",
       "...                       ...     ...       ...\n",
       "2025-04-03 23:55:00  1.309160     0.0 -0.000164\n",
       "2025-04-03 23:56:00  1.308970     0.0 -0.000145\n",
       "2025-04-03 23:57:00  1.308840     0.0 -0.000099\n",
       "2025-04-03 23:58:00  1.308860     0.0  0.000015\n",
       "2025-04-03 23:59:00  1.308930     0.0  0.000053\n",
       "\n",
       "[20504 rows x 3 columns]"
      ]
     },
     "execution_count": 6,
     "metadata": {},
     "output_type": "execute_result"
    }
   ],
   "source": [
    "tester.data"
   ]
  },
  {
   "cell_type": "code",
   "execution_count": 7,
   "id": "447a4f05",
   "metadata": {},
   "outputs": [
    {
     "data": {
      "text/plain": [
       "Index(['price', 'spread', 'returns'], dtype='object')"
      ]
     },
     "execution_count": 7,
     "metadata": {},
     "output_type": "execute_result"
    }
   ],
   "source": [
    "tester.data.columns"
   ]
  },
  {
   "cell_type": "code",
   "execution_count": 8,
   "id": "351c7a5d",
   "metadata": {},
   "outputs": [
    {
     "name": "stdout",
     "output_type": "stream",
     "text": [
      "Devs range: [2, 3]\n",
      "First 5 combinations: [(51, 51, 2), (51, 51, 3), (51, 56, 2), (51, 56, 3), (51, 61, 2)]\n",
      "Results overview head:\n",
      "   Freq  Windows  Devs\n",
      "0    51       51     2\n",
      "1    51       51     3\n",
      "2    51       56     2\n",
      "3    51       56     3\n",
      "4    51       61     2\n",
      "Frequency: 71 | Windows: 101 | Devs: 2 | Multiple: 1.009596\n",
      "====================================================================================================\n",
      "SIMPLE BOLLINGER BAND STRATEGY | INSTRUMENT = GBPUSD | Freq: 71min | WINDOW = 101\n",
      "----------------------------------------------------------------------------------------------------\n",
      "PERFORMANCE MEASURES:\n",
      "\n",
      "\n",
      "Multiple (Strategy):         1.007589\n",
      "Multiple (Buy-and-Hold):     1.020451\n",
      "--------------------------------------\n",
      "Out-/Underperformance:       -0.012862\n",
      "\n",
      "\n",
      "CAGR:                        0.236674\n",
      "Annualized Mean:             0.208672\n",
      "Annualized Std:              0.047797\n",
      "Sharpe Ratio:                4.365764\n",
      "Sortino Ratio:               6.230714\n",
      "Maximum Drawdown:            0.018456\n",
      "Calmar Ratio:                12.823898\n",
      "Max Drawdown Duration:       4 Days\n",
      "Kelly Criterion:             91.835304\n",
      "====================================================================================================\n"
     ]
    }
   ],
   "source": [
    "tester.optimize_strategy((51, 301, 5), (51,301, 5), (2, 4, 1), metric = \"Multiple\") # keep dev constant (2)"
   ]
  },
  {
   "cell_type": "code",
   "execution_count": null,
   "id": "5c73e0e6",
   "metadata": {},
   "outputs": [],
   "source": [
    "q1 = tester.results_overview\n",
    "q1"
   ]
  },
  {
   "cell_type": "code",
   "execution_count": null,
   "id": "e21b43bd",
   "metadata": {},
   "outputs": [],
   "source": [
    "tester.visualize_many()"
   ]
  },
  {
   "cell_type": "code",
   "execution_count": null,
   "id": "4f694531",
   "metadata": {},
   "outputs": [],
   "source": [
    "print(tester.results_overview.head())"
   ]
  },
  {
   "cell_type": "code",
   "execution_count": null,
   "id": "bb6b4164",
   "metadata": {},
   "outputs": [],
   "source": [
    "q1 = tester.results_overview\n",
    "q1"
   ]
  },
  {
   "cell_type": "markdown",
   "id": "17bcc201",
   "metadata": {},
   "source": [
    "__2. Quarter 2018__"
   ]
  },
  {
   "cell_type": "code",
   "execution_count": null,
   "id": "5bd09207",
   "metadata": {},
   "outputs": [],
   "source": [
    "tester.get_data_oanda(\"./data/GBP_recent_data_1.csv\", \"2025-04-03\", \"2025-04-29\")"
   ]
  },
  {
   "cell_type": "code",
   "execution_count": null,
   "id": "3941476c",
   "metadata": {},
   "outputs": [],
   "source": [
    "tester.optimize_strategy((51, 301, 5), (51, 301, 5), (2, 3, 1), metric = \"Multiple\") "
   ]
  },
  {
   "cell_type": "code",
   "execution_count": null,
   "id": "5e9b9ebd",
   "metadata": {},
   "outputs": [],
   "source": [
    "tester.visualize_many()"
   ]
  },
  {
   "cell_type": "code",
   "execution_count": null,
   "id": "972e6675",
   "metadata": {},
   "outputs": [],
   "source": [
    "q2 = tester.results_overview\n",
    "q2"
   ]
  },
  {
   "cell_type": "markdown",
   "id": "112f2f47",
   "metadata": {},
   "source": [
    "__3. Quarter 2018__"
   ]
  },
  {
   "cell_type": "code",
   "execution_count": null,
   "id": "fd12dad9",
   "metadata": {},
   "outputs": [],
   "source": [
    "tester.get_data_oanda(\"./data/GBP_recent_data_1.csv\", \"2025-04-29\", \"2025-05-22\")"
   ]
  },
  {
   "cell_type": "code",
   "execution_count": null,
   "id": "78ecffce",
   "metadata": {},
   "outputs": [],
   "source": [
    "tester.optimize_strategy((51, 301, 5), (51, 301, 5), (2, 3, 1), metric = \"Multiple\") "
   ]
  },
  {
   "cell_type": "code",
   "execution_count": null,
   "id": "e3b4bb1a",
   "metadata": {},
   "outputs": [],
   "source": [
    "tester.visualize_many()"
   ]
  },
  {
   "cell_type": "code",
   "execution_count": null,
   "id": "3be6609d",
   "metadata": {},
   "outputs": [],
   "source": [
    "q3 = tester.results_overview\n",
    "q3"
   ]
  },
  {
   "cell_type": "markdown",
   "id": "37a9b1b8",
   "metadata": {},
   "source": [
    "__4. Quarter 2018__"
   ]
  },
  {
   "cell_type": "code",
   "execution_count": null,
   "id": "14f96852",
   "metadata": {},
   "outputs": [],
   "source": [
    "tester.get_data_oanda(\"./data/GBP_recent_data_1.csv\", \"2025-05-22\", \"2025-06-17\")"
   ]
  },
  {
   "cell_type": "code",
   "execution_count": null,
   "id": "853d6b5d",
   "metadata": {},
   "outputs": [],
   "source": [
    "tester.optimize_strategy((51, 301, 5), (51, 301, 5), (2, 3, 1), metric = \"Multiple\") "
   ]
  },
  {
   "cell_type": "code",
   "execution_count": null,
   "id": "53f4f778",
   "metadata": {},
   "outputs": [],
   "source": [
    "tester.visualize_many()"
   ]
  },
  {
   "cell_type": "code",
   "execution_count": null,
   "id": "22498ddd",
   "metadata": {},
   "outputs": [],
   "source": [
    "q4 = tester.results_overview\n",
    "q4"
   ]
  },
  {
   "cell_type": "markdown",
   "id": "7a62bbd6",
   "metadata": {},
   "source": [
    "__Comparing all four quarters__\n"
   ]
  },
  {
   "cell_type": "code",
   "execution_count": null,
   "id": "489c8689",
   "metadata": {},
   "outputs": [],
   "source": [
    "# Concatenate DataFrames\n",
    "comp = pd.concat([q1, q2, q3, q4], axis=1)\n",
    "\n",
    "# Select relevant columns for output\n",
    "comp = comp.iloc[:, [0, 1, 2, 3, 7, 11, 15]]  # Adjust column indices as needed\n",
    "\n",
    "# Rename columns for clarity\n",
    "comp.columns = [\"Freq\", \"Windows\", \"Dev\", \"Performance_Q1\", \"Performance_Q2\", \"Performance_Q3\", \"Performance_Q4\"]\n",
    "\n",
    "comp = comp.dropna()\n",
    "\n",
    "# Calculate the mean of performance columns\n",
    "comp[\"Score1\"] = comp[[\"Performance_Q1\", \"Performance_Q2\", \"Performance_Q3\", \"Performance_Q4\"]].mean(axis=1)\n",
    "comp"
   ]
  },
  {
   "cell_type": "code",
   "execution_count": null,
   "id": "3d15fdfa",
   "metadata": {},
   "outputs": [],
   "source": [
    "comp.iloc[:, 3:7].rank(ascending = False)"
   ]
  },
  {
   "cell_type": "code",
   "execution_count": null,
   "id": "a35b4691",
   "metadata": {},
   "outputs": [],
   "source": [
    "comp[\"Score2\"] = (comp.iloc[:, 3:7].rank(ascending = False)**2).mean(axis = 1) # mean rank\n",
    "comp"
   ]
  },
  {
   "cell_type": "code",
   "execution_count": null,
   "id": "aa9d4a80",
   "metadata": {},
   "outputs": [],
   "source": [
    "comp.sort_values(by = \"Score1\", ascending = False).head(20)"
   ]
  },
  {
   "cell_type": "code",
   "execution_count": null,
   "id": "c9bfcb42",
   "metadata": {},
   "outputs": [],
   "source": [
    "comp.sort_values(by = \"Score2\", ascending = True).head(20)"
   ]
  },
  {
   "cell_type": "markdown",
   "id": "db653ecd",
   "metadata": {},
   "source": [
    "## Backtesting / Forward Testing a stable Strategy"
   ]
  },
  {
   "cell_type": "code",
   "execution_count": null,
   "id": "4132874e",
   "metadata": {},
   "outputs": [],
   "source": [
    "tester.get_data_oanda(\"./data/GBP_recent_data_1.csv\", \"2025-03-12\", \"2025-06-17\")"
   ]
  },
  {
   "cell_type": "code",
   "execution_count": null,
   "id": "e5e3727d",
   "metadata": {},
   "outputs": [],
   "source": [
    "tester.test_strategy(121, 181, 2)"
   ]
  },
  {
   "cell_type": "code",
   "execution_count": null,
   "id": "b26c54b1",
   "metadata": {},
   "outputs": [],
   "source": [
    "tester.plot_results()"
   ]
  },
  {
   "cell_type": "code",
   "execution_count": null,
   "id": "446b8a38",
   "metadata": {},
   "outputs": [],
   "source": [
    "tester.add_leverage(3, sl = -0.4)"
   ]
  },
  {
   "cell_type": "code",
   "execution_count": null,
   "id": "1b82e3df",
   "metadata": {},
   "outputs": [],
   "source": [
    "tester.plot_results(leverage=True)"
   ]
  },
  {
   "cell_type": "markdown",
   "id": "9c65ad3d",
   "metadata": {},
   "source": [
    "__Forward Testing__"
   ]
  },
  {
   "cell_type": "code",
   "execution_count": null,
   "id": "9d39438b",
   "metadata": {},
   "outputs": [],
   "source": [
    "tester = BollBacktester(filepath = filepath, symbol = symbol, start = \"2019-01-01\", end = \"2019-12-31\", tc = ptc)\n",
    "tester"
   ]
  },
  {
   "cell_type": "code",
   "execution_count": null,
   "id": "adc7d7d9",
   "metadata": {},
   "outputs": [],
   "source": [
    "tester.test_strategy(121, 181, 2)"
   ]
  },
  {
   "cell_type": "code",
   "execution_count": null,
   "id": "8354ac23",
   "metadata": {},
   "outputs": [],
   "source": [
    "tester.add_leverage(4, sl = -0.4)"
   ]
  },
  {
   "cell_type": "code",
   "execution_count": null,
   "id": "1c0997bd",
   "metadata": {},
   "outputs": [],
   "source": [
    "tester.plot_results()"
   ]
  },
  {
   "cell_type": "code",
   "execution_count": null,
   "id": "1e192544",
   "metadata": {},
   "outputs": [],
   "source": [
    "tester.plot_results(leverage=True)"
   ]
  },
  {
   "cell_type": "markdown",
   "id": "de1a0d55",
   "metadata": {},
   "source": [
    "__Iterative Testing__"
   ]
  },
  {
   "cell_type": "code",
   "execution_count": null,
   "id": "ee4a88de",
   "metadata": {},
   "outputs": [],
   "source": [
    "import pandas as pd\n",
    "import sys\n",
    "sys.path.append(r\"e:/work/IT/trading/MyCode/BollBacktest\")  # Add the directory to the Python path\n",
    "\n",
    "from BollBacktester import BollBacktester  # Import the class"
   ]
  },
  {
   "cell_type": "code",
   "execution_count": null,
   "id": "550fd6c7",
   "metadata": {},
   "outputs": [],
   "source": [
    "import sys\n",
    "sys.path.append(r\"../../MyCode/BollBacktest\")  # Add the relative path to the Python path\n",
    "import IterativeBacktest as IB"
   ]
  },
  {
   "cell_type": "code",
   "execution_count": null,
   "id": "00db618d",
   "metadata": {},
   "outputs": [],
   "source": [
    "filepath = \"./data/GBP_recent_data_1.csv\"  # Updated to correct relative path\n",
    "symbol = \"GBPUSD\"\n",
    "\n",
    "start1 = \"2018-01-01\"\n",
    "end1 = \"2018-03-31\"\n",
    "start2 = \"2018-04-01\"\n",
    "end2 = \"2018-06-30\"\n",
    "start3 = \"2018-07-01\"\n",
    "end3 = \"2018-09-30\"\n",
    "start4 = \"2018-10-01\"\n",
    "end4 = \"2018-12-31\"\n",
    "\n",
    "end5 = \"2019-06-30\"\n",
    "\n",
    "ptc = 0.00007"
   ]
  },
  {
   "cell_type": "code",
   "execution_count": null,
   "id": "3922baa7",
   "metadata": {},
   "outputs": [],
   "source": [
    "bc = IB.IterativeBacktest(symbol, \"2025-03-14\", \"2025-06-20\", 100000, file_path=filepath, use_spread = True)"
   ]
  },
  {
   "cell_type": "code",
   "execution_count": null,
   "id": "6e130059",
   "metadata": {},
   "outputs": [],
   "source": [
    "bc.data"
   ]
  },
  {
   "cell_type": "code",
   "execution_count": null,
   "id": "08192356",
   "metadata": {},
   "outputs": [],
   "source": [
    "bc.test_boll_strategy(131, 2)"
   ]
  }
 ],
 "metadata": {
  "kernelspec": {
   "display_name": "Python 3",
   "language": "python",
   "name": "python3"
  },
  "language_info": {
   "codemirror_mode": {
    "name": "ipython",
    "version": 3
   },
   "file_extension": ".py",
   "mimetype": "text/x-python",
   "name": "python",
   "nbconvert_exporter": "python",
   "pygments_lexer": "ipython3",
   "version": "3.10.11"
  }
 },
 "nbformat": 4,
 "nbformat_minor": 5
}
