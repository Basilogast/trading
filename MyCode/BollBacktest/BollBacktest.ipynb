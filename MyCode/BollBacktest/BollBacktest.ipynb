{
 "cells": [
  {
   "cell_type": "code",
   "execution_count": 11,
   "id": "472bbabd",
   "metadata": {},
   "outputs": [],
   "source": [
    "import pandas as pd\n",
    "import sys\n",
    "sys.path.append(r\"e:/work/IT/trading/MyCode/BollBacktest\")  # Add the directory to the Python path\n",
    "\n",
    "from BollBacktester import BollBacktester  # Import the class"
   ]
  },
  {
   "cell_type": "code",
   "execution_count": 12,
   "id": "69413b7e",
   "metadata": {},
   "outputs": [],
   "source": [
    "filepath = \"./data/one_minute.csv\"  # Updated to correct relative path\n",
    "symbol = \"EURUSD\"\n",
    "\n",
    "start1 = \"2018-01-01\"\n",
    "end1 = \"2018-03-31\"\n",
    "start2 = \"2018-04-01\"\n",
    "end2 = \"2018-06-30\"\n",
    "start3 = \"2018-07-01\"\n",
    "end3 = \"2018-09-30\"\n",
    "start4 = \"2018-10-01\"\n",
    "end4 = \"2018-12-31\"\n",
    "\n",
    "end5 = \"2019-06-30\"\n",
    "\n",
    "ptc = 0.00007"
   ]
  },
  {
   "cell_type": "markdown",
   "id": "6a5a8362",
   "metadata": {},
   "source": [
    "__1. Quarter 2018__"
   ]
  },
  {
   "cell_type": "code",
   "execution_count": 13,
   "id": "e586a56f",
   "metadata": {},
   "outputs": [
    {
     "data": {
      "text/plain": [
       "BollBacktester(symbol = EURUSD, start = 2018-01-01, end = 2018-03-31)"
      ]
     },
     "execution_count": 13,
     "metadata": {},
     "output_type": "execute_result"
    }
   ],
   "source": [
    "tester = BollBacktester(filepath = filepath, symbol = symbol, start = start1, end = end1, tc = ptc)\n",
    "tester"
   ]
  },
  {
   "cell_type": "code",
   "execution_count": 14,
   "id": "47b744a7",
   "metadata": {},
   "outputs": [
    {
     "data": {
      "text/html": [
       "<div>\n",
       "<style scoped>\n",
       "    .dataframe tbody tr th:only-of-type {\n",
       "        vertical-align: middle;\n",
       "    }\n",
       "\n",
       "    .dataframe tbody tr th {\n",
       "        vertical-align: top;\n",
       "    }\n",
       "\n",
       "    .dataframe thead th {\n",
       "        text-align: right;\n",
       "    }\n",
       "</style>\n",
       "<table border=\"1\" class=\"dataframe\">\n",
       "  <thead>\n",
       "    <tr style=\"text-align: right;\">\n",
       "      <th></th>\n",
       "      <th>price</th>\n",
       "      <th>returns</th>\n",
       "    </tr>\n",
       "    <tr>\n",
       "      <th>time</th>\n",
       "      <th></th>\n",
       "      <th></th>\n",
       "    </tr>\n",
       "  </thead>\n",
       "  <tbody>\n",
       "    <tr>\n",
       "      <th>2018-01-01 22:00:00</th>\n",
       "      <td>1.20071</td>\n",
       "      <td>NaN</td>\n",
       "    </tr>\n",
       "    <tr>\n",
       "      <th>2018-01-01 22:01:00</th>\n",
       "      <td>1.20068</td>\n",
       "      <td>-0.000025</td>\n",
       "    </tr>\n",
       "    <tr>\n",
       "      <th>2018-01-01 22:02:00</th>\n",
       "      <td>1.20073</td>\n",
       "      <td>0.000042</td>\n",
       "    </tr>\n",
       "    <tr>\n",
       "      <th>2018-01-01 22:03:00</th>\n",
       "      <td>1.20072</td>\n",
       "      <td>-0.000008</td>\n",
       "    </tr>\n",
       "    <tr>\n",
       "      <th>2018-01-01 22:04:00</th>\n",
       "      <td>1.20072</td>\n",
       "      <td>0.000000</td>\n",
       "    </tr>\n",
       "    <tr>\n",
       "      <th>...</th>\n",
       "      <td>...</td>\n",
       "      <td>...</td>\n",
       "    </tr>\n",
       "    <tr>\n",
       "      <th>2018-03-30 20:55:00</th>\n",
       "      <td>1.23236</td>\n",
       "      <td>-0.000365</td>\n",
       "    </tr>\n",
       "    <tr>\n",
       "      <th>2018-03-30 20:56:00</th>\n",
       "      <td>1.23230</td>\n",
       "      <td>-0.000049</td>\n",
       "    </tr>\n",
       "    <tr>\n",
       "      <th>2018-03-30 20:57:00</th>\n",
       "      <td>1.23197</td>\n",
       "      <td>-0.000268</td>\n",
       "    </tr>\n",
       "    <tr>\n",
       "      <th>2018-03-30 20:58:00</th>\n",
       "      <td>1.23218</td>\n",
       "      <td>0.000170</td>\n",
       "    </tr>\n",
       "    <tr>\n",
       "      <th>2018-03-30 20:59:00</th>\n",
       "      <td>1.23241</td>\n",
       "      <td>0.000187</td>\n",
       "    </tr>\n",
       "  </tbody>\n",
       "</table>\n",
       "<p>92004 rows × 2 columns</p>\n",
       "</div>"
      ],
      "text/plain": [
       "                       price   returns\n",
       "time                                  \n",
       "2018-01-01 22:00:00  1.20071       NaN\n",
       "2018-01-01 22:01:00  1.20068 -0.000025\n",
       "2018-01-01 22:02:00  1.20073  0.000042\n",
       "2018-01-01 22:03:00  1.20072 -0.000008\n",
       "2018-01-01 22:04:00  1.20072  0.000000\n",
       "...                      ...       ...\n",
       "2018-03-30 20:55:00  1.23236 -0.000365\n",
       "2018-03-30 20:56:00  1.23230 -0.000049\n",
       "2018-03-30 20:57:00  1.23197 -0.000268\n",
       "2018-03-30 20:58:00  1.23218  0.000170\n",
       "2018-03-30 20:59:00  1.23241  0.000187\n",
       "\n",
       "[92004 rows x 2 columns]"
      ]
     },
     "execution_count": 14,
     "metadata": {},
     "output_type": "execute_result"
    }
   ],
   "source": [
    "tester.data"
   ]
  },
  {
   "cell_type": "code",
   "execution_count": 15,
   "id": "cba4f9b2",
   "metadata": {},
   "outputs": [
    {
     "data": {
      "text/plain": [
       "Index(['price', 'returns'], dtype='object')"
      ]
     },
     "execution_count": 15,
     "metadata": {},
     "output_type": "execute_result"
    }
   ],
   "source": [
    "tester.data.columns"
   ]
  },
  {
   "cell_type": "code",
   "execution_count": null,
   "id": "1b197f06",
   "metadata": {},
   "outputs": [],
   "source": [
    "tester.optimize_strategy((51, 301, 5), (51, 301, 5), (2, 3, 1), metric = \"Multiple\") # keep dev constant (2)"
   ]
  },
  {
   "cell_type": "code",
   "execution_count": null,
   "id": "6747c8b5",
   "metadata": {},
   "outputs": [
    {
     "name": "stderr",
     "output_type": "stream",
     "text": [
      "2025-06-17 04:54:26,913 - INFO - setting up API-client for environment practice\n",
      "2025-06-17 04:54:26,913 - INFO - performing request https://api-fxpractice.oanda.com/v3/instruments/EUR_USD/candles\n",
      "2025-06-17 04:54:26,963 - DEBUG - Starting new HTTPS connection (1): api-fxpractice.oanda.com:443\n",
      "2025-06-17 04:54:27,312 - DEBUG - https://api-fxpractice.oanda.com:443 \"GET /v3/instruments/EUR_USD/candles?granularity=M1&count=5000 HTTP/1.1\" 200 104164\n",
      "2025-06-17 04:54:31,939 - INFO - performing request https://api-fxpractice.oanda.com/v3/instruments/EUR_USD/candles\n",
      "2025-06-17 04:54:32,162 - DEBUG - https://api-fxpractice.oanda.com:443 \"GET /v3/instruments/EUR_USD/candles?granularity=M1&count=5000&to=2025-06-11T10%3A02%3A00Z HTTP/1.1\" 200 101050\n",
      "2025-06-17 04:54:36,289 - INFO - performing request https://api-fxpractice.oanda.com/v3/instruments/EUR_USD/candles\n",
      "2025-06-17 04:54:36,547 - DEBUG - https://api-fxpractice.oanda.com:443 \"GET /v3/instruments/EUR_USD/candles?granularity=M1&count=5000&to=2025-06-05T22%3A04%3A00Z HTTP/1.1\" 200 102160\n",
      "2025-06-17 04:54:39,998 - INFO - performing request https://api-fxpractice.oanda.com/v3/instruments/EUR_USD/candles\n",
      "2025-06-17 04:54:40,211 - DEBUG - https://api-fxpractice.oanda.com:443 \"GET /v3/instruments/EUR_USD/candles?granularity=M1&count=5000&to=2025-06-02T10%3A13%3A00Z HTTP/1.1\" 200 103412\n",
      "2025-06-17 04:54:43,992 - INFO - performing request https://api-fxpractice.oanda.com/v3/instruments/EUR_USD/candles\n",
      "2025-06-17 04:54:44,171 - DEBUG - https://api-fxpractice.oanda.com:443 \"GET /v3/instruments/EUR_USD/candles?granularity=M1&count=5000&to=2025-05-27T22%3A31%3A00Z HTTP/1.1\" 200 101670\n",
      "2025-06-17 04:54:47,774 - INFO - performing request https://api-fxpractice.oanda.com/v3/instruments/EUR_USD/candles\n",
      "2025-06-17 04:54:48,143 - DEBUG - https://api-fxpractice.oanda.com:443 \"GET /v3/instruments/EUR_USD/candles?granularity=M1&count=5000&to=2025-05-22T10%3A24%3A00Z HTTP/1.1\" 200 103154\n",
      "2025-06-17 04:54:51,613 - INFO - performing request https://api-fxpractice.oanda.com/v3/instruments/EUR_USD/candles\n",
      "2025-06-17 04:54:51,840 - DEBUG - https://api-fxpractice.oanda.com:443 \"GET /v3/instruments/EUR_USD/candles?granularity=M1&count=5000&to=2025-05-18T22%3A38%3A00Z HTTP/1.1\" 200 103407\n",
      "2025-06-17 04:54:55,209 - INFO - performing request https://api-fxpractice.oanda.com/v3/instruments/EUR_USD/candles\n",
      "2025-06-17 04:54:55,420 - DEBUG - https://api-fxpractice.oanda.com:443 \"GET /v3/instruments/EUR_USD/candles?granularity=M1&count=5000&to=2025-05-13T10%3A36%3A00Z HTTP/1.1\" 200 104303\n",
      "2025-06-17 04:54:59,964 - INFO - performing request https://api-fxpractice.oanda.com/v3/instruments/EUR_USD/candles\n",
      "2025-06-17 04:55:00,177 - DEBUG - https://api-fxpractice.oanda.com:443 \"GET /v3/instruments/EUR_USD/candles?granularity=M1&count=5000&to=2025-05-07T22%3A48%3A00Z HTTP/1.1\" 200 104498\n",
      "2025-06-17 04:55:04,671 - INFO - performing request https://api-fxpractice.oanda.com/v3/instruments/EUR_USD/candles\n",
      "2025-06-17 04:55:04,980 - DEBUG - https://api-fxpractice.oanda.com:443 \"GET /v3/instruments/EUR_USD/candles?granularity=M1&count=5000&to=2025-05-02T10%3A43%3A00Z HTTP/1.1\" 200 104349\n",
      "2025-06-17 04:55:09,518 - INFO - performing request https://api-fxpractice.oanda.com/v3/instruments/EUR_USD/candles\n",
      "2025-06-17 04:55:09,709 - DEBUG - https://api-fxpractice.oanda.com:443 \"GET /v3/instruments/EUR_USD/candles?granularity=M1&count=5000&to=2025-04-28T23%3A00%3A00Z HTTP/1.1\" 200 104422\n",
      "2025-06-17 04:55:14,192 - INFO - performing request https://api-fxpractice.oanda.com/v3/instruments/EUR_USD/candles\n",
      "2025-06-17 04:55:14,375 - DEBUG - https://api-fxpractice.oanda.com:443 \"GET /v3/instruments/EUR_USD/candles?granularity=M1&count=5000&to=2025-04-23T10%3A51%3A00Z HTTP/1.1\" 200 104578\n",
      "2025-06-17 04:55:20,696 - INFO - performing request https://api-fxpractice.oanda.com/v3/instruments/EUR_USD/candles\n",
      "2025-06-17 04:55:20,967 - DEBUG - https://api-fxpractice.oanda.com:443 \"GET /v3/instruments/EUR_USD/candles?granularity=M1&count=5000&to=2025-04-17T23%3A03%3A00Z HTTP/1.1\" 200 105803\n",
      "2025-06-17 04:55:25,734 - INFO - performing request https://api-fxpractice.oanda.com/v3/instruments/EUR_USD/candles\n",
      "2025-06-17 04:55:25,927 - DEBUG - https://api-fxpractice.oanda.com:443 \"GET /v3/instruments/EUR_USD/candles?granularity=M1&count=5000&to=2025-04-14T11%3A01%3A00Z HTTP/1.1\" 200 111236\n",
      "2025-06-17 04:55:29,560 - INFO - performing request https://api-fxpractice.oanda.com/v3/instruments/EUR_USD/candles\n",
      "2025-06-17 04:55:29,777 - DEBUG - https://api-fxpractice.oanda.com:443 \"GET /v3/instruments/EUR_USD/candles?granularity=M1&count=5000&to=2025-04-08T23%3A11%3A00Z HTTP/1.1\" 200 109491\n",
      "2025-06-17 04:55:33,590 - INFO - performing request https://api-fxpractice.oanda.com/v3/instruments/EUR_USD/candles\n",
      "2025-06-17 04:55:33,837 - DEBUG - https://api-fxpractice.oanda.com:443 \"GET /v3/instruments/EUR_USD/candles?granularity=M1&count=5000&to=2025-04-03T11%3A03%3A00Z HTTP/1.1\" 200 103067\n",
      "2025-06-17 04:55:37,330 - INFO - performing request https://api-fxpractice.oanda.com/v3/instruments/EUR_USD/candles\n",
      "2025-06-17 04:55:37,547 - DEBUG - https://api-fxpractice.oanda.com:443 \"GET /v3/instruments/EUR_USD/candles?granularity=M1&count=5000&to=2025-03-30T23%3A14%3A00Z HTTP/1.1\" 200 100658\n",
      "2025-06-17 04:55:41,180 - INFO - performing request https://api-fxpractice.oanda.com/v3/instruments/EUR_USD/candles\n",
      "2025-06-17 04:55:41,377 - DEBUG - https://api-fxpractice.oanda.com:443 \"GET /v3/instruments/EUR_USD/candles?granularity=M1&count=5000&to=2025-03-25T11%3A03%3A00Z HTTP/1.1\" 200 100978\n",
      "2025-06-17 04:55:45,150 - INFO - performing request https://api-fxpractice.oanda.com/v3/instruments/EUR_USD/candles\n",
      "2025-06-17 04:55:45,439 - DEBUG - https://api-fxpractice.oanda.com:443 \"GET /v3/instruments/EUR_USD/candles?granularity=M1&count=5000&to=2025-03-19T23%3A14%3A00Z HTTP/1.1\" 200 100437\n",
      "2025-06-17 04:55:49,194 - INFO - performing request https://api-fxpractice.oanda.com/v3/instruments/EUR_USD/candles\n",
      "2025-06-17 04:55:49,404 - DEBUG - https://api-fxpractice.oanda.com:443 \"GET /v3/instruments/EUR_USD/candles?granularity=M1&count=5000&to=2025-03-14T11%3A06%3A00Z HTTP/1.1\" 200 102387\n"
     ]
    }
   ],
   "source": [
    "tester.download_recent_data(\"GBP_USD\", 100000, \"GBP_recent_data_1.csv\")"
   ]
  },
  {
   "cell_type": "code",
   "execution_count": 17,
   "id": "1a31dff2",
   "metadata": {},
   "outputs": [
    {
     "data": {
      "text/html": [
       "<div>\n",
       "<style scoped>\n",
       "    .dataframe tbody tr th:only-of-type {\n",
       "        vertical-align: middle;\n",
       "    }\n",
       "\n",
       "    .dataframe tbody tr th {\n",
       "        vertical-align: top;\n",
       "    }\n",
       "\n",
       "    .dataframe thead th {\n",
       "        text-align: right;\n",
       "    }\n",
       "</style>\n",
       "<table border=\"1\" class=\"dataframe\">\n",
       "  <thead>\n",
       "    <tr style=\"text-align: right;\">\n",
       "      <th></th>\n",
       "      <th>price</th>\n",
       "      <th>spread</th>\n",
       "      <th>returns</th>\n",
       "    </tr>\n",
       "    <tr>\n",
       "      <th>time</th>\n",
       "      <th></th>\n",
       "      <th></th>\n",
       "      <th></th>\n",
       "    </tr>\n",
       "  </thead>\n",
       "  <tbody>\n",
       "    <tr>\n",
       "      <th>2025-06-11 10:02:00</th>\n",
       "      <td>1.143680</td>\n",
       "      <td>0.0</td>\n",
       "      <td>NaN</td>\n",
       "    </tr>\n",
       "    <tr>\n",
       "      <th>2025-06-11 10:03:00</th>\n",
       "      <td>1.143635</td>\n",
       "      <td>0.0</td>\n",
       "      <td>-0.000039</td>\n",
       "    </tr>\n",
       "    <tr>\n",
       "      <th>2025-06-11 10:04:00</th>\n",
       "      <td>1.143550</td>\n",
       "      <td>0.0</td>\n",
       "      <td>-0.000074</td>\n",
       "    </tr>\n",
       "    <tr>\n",
       "      <th>2025-06-11 10:05:00</th>\n",
       "      <td>1.143590</td>\n",
       "      <td>0.0</td>\n",
       "      <td>0.000035</td>\n",
       "    </tr>\n",
       "    <tr>\n",
       "      <th>2025-06-11 10:06:00</th>\n",
       "      <td>1.143500</td>\n",
       "      <td>0.0</td>\n",
       "      <td>-0.000079</td>\n",
       "    </tr>\n",
       "    <tr>\n",
       "      <th>...</th>\n",
       "      <td>...</td>\n",
       "      <td>...</td>\n",
       "      <td>...</td>\n",
       "    </tr>\n",
       "    <tr>\n",
       "      <th>2025-03-14 11:01:00</th>\n",
       "      <td>1.089785</td>\n",
       "      <td>0.0</td>\n",
       "      <td>0.000165</td>\n",
       "    </tr>\n",
       "    <tr>\n",
       "      <th>2025-03-14 11:02:00</th>\n",
       "      <td>1.089940</td>\n",
       "      <td>0.0</td>\n",
       "      <td>0.000142</td>\n",
       "    </tr>\n",
       "    <tr>\n",
       "      <th>2025-03-14 11:03:00</th>\n",
       "      <td>1.089930</td>\n",
       "      <td>0.0</td>\n",
       "      <td>-0.000009</td>\n",
       "    </tr>\n",
       "    <tr>\n",
       "      <th>2025-03-14 11:04:00</th>\n",
       "      <td>1.089740</td>\n",
       "      <td>0.0</td>\n",
       "      <td>-0.000174</td>\n",
       "    </tr>\n",
       "    <tr>\n",
       "      <th>2025-03-14 11:05:00</th>\n",
       "      <td>1.089725</td>\n",
       "      <td>0.0</td>\n",
       "      <td>-0.000014</td>\n",
       "    </tr>\n",
       "  </tbody>\n",
       "</table>\n",
       "<p>100000 rows × 3 columns</p>\n",
       "</div>"
      ],
      "text/plain": [
       "                        price  spread   returns\n",
       "time                                           \n",
       "2025-06-11 10:02:00  1.143680     0.0       NaN\n",
       "2025-06-11 10:03:00  1.143635     0.0 -0.000039\n",
       "2025-06-11 10:04:00  1.143550     0.0 -0.000074\n",
       "2025-06-11 10:05:00  1.143590     0.0  0.000035\n",
       "2025-06-11 10:06:00  1.143500     0.0 -0.000079\n",
       "...                       ...     ...       ...\n",
       "2025-03-14 11:01:00  1.089785     0.0  0.000165\n",
       "2025-03-14 11:02:00  1.089940     0.0  0.000142\n",
       "2025-03-14 11:03:00  1.089930     0.0 -0.000009\n",
       "2025-03-14 11:04:00  1.089740     0.0 -0.000174\n",
       "2025-03-14 11:05:00  1.089725     0.0 -0.000014\n",
       "\n",
       "[100000 rows x 3 columns]"
      ]
     },
     "execution_count": 17,
     "metadata": {},
     "output_type": "execute_result"
    }
   ],
   "source": [
    "tester.data"
   ]
  },
  {
   "cell_type": "code",
   "execution_count": 18,
   "id": "447a4f05",
   "metadata": {},
   "outputs": [
    {
     "data": {
      "text/plain": [
       "Index(['price', 'spread', 'returns'], dtype='object')"
      ]
     },
     "execution_count": 18,
     "metadata": {},
     "output_type": "execute_result"
    }
   ],
   "source": [
    "tester.data.columns"
   ]
  },
  {
   "cell_type": "code",
   "execution_count": 29,
   "id": "351c7a5d",
   "metadata": {},
   "outputs": [
    {
     "name": "stdout",
     "output_type": "stream",
     "text": [
      "Frequency: 56 | Windows: 116 | Devs: 2 | Multiple: 1.204271\n",
      "====================================================================================================\n",
      "SIMPLE BOLLINGER BAND STRATEGY | INSTRUMENT = EURUSD | Freq: 56min | WINDOW = 116\n",
      "----------------------------------------------------------------------------------------------------\n",
      "PERFORMANCE MEASURES:\n",
      "\n",
      "\n",
      "Multiple (Strategy):         1.204271\n",
      "Multiple (Buy-and-Hold):     1.602615\n",
      "--------------------------------------\n",
      "Out-/Underperformance:       -0.398344\n",
      "\n",
      "\n",
      "CAGR:                        1.075097\n",
      "Annualized Mean:             0.686599\n",
      "Annualized Std:              0.114936\n",
      "Sharpe Ratio:                5.973777\n",
      "Sortino Ratio:               9.266425\n",
      "Maximum Drawdown:            0.13252\n",
      "Calmar Ratio:                8.112731\n",
      "Max Drawdown Duration:       67 Days\n",
      "Kelly Criterion:             52.174949\n",
      "====================================================================================================\n"
     ]
    }
   ],
   "source": [
    "tester.optimize_strategy((51, 301, 5), (51,301, 5), (2, 4, 1), metric = \"Multiple\") # keep dev constant (2)"
   ]
  },
  {
   "cell_type": "code",
   "execution_count": 28,
   "id": "e21b43bd",
   "metadata": {},
   "outputs": [
    {
     "ename": "ValueError",
     "evalue": "Index contains duplicate entries, cannot reshape",
     "output_type": "error",
     "traceback": [
      "\u001b[1;31m---------------------------------------------------------------------------\u001b[0m",
      "\u001b[1;31mValueError\u001b[0m                                Traceback (most recent call last)",
      "Cell \u001b[1;32mIn[28], line 1\u001b[0m\n\u001b[1;32m----> 1\u001b[0m \u001b[43mtester\u001b[49m\u001b[38;5;241;43m.\u001b[39;49m\u001b[43mvisualize_many\u001b[49m\u001b[43m(\u001b[49m\u001b[43m)\u001b[49m\n",
      "File \u001b[1;32me:\\work\\IT\\trading\\MyCode\\BollBacktest\\BollBacktester.py:342\u001b[0m, in \u001b[0;36mBollBacktester.visualize_many\u001b[1;34m(self)\u001b[0m\n\u001b[0;32m    340\u001b[0m     \u001b[38;5;28mprint\u001b[39m(\u001b[38;5;124m\"\u001b[39m\u001b[38;5;124mRun optimize_strategy() first.\u001b[39m\u001b[38;5;124m\"\u001b[39m)\n\u001b[0;32m    341\u001b[0m \u001b[38;5;28;01melse\u001b[39;00m: \n\u001b[1;32m--> 342\u001b[0m     matrix \u001b[38;5;241m=\u001b[39m \u001b[38;5;28;43mself\u001b[39;49m\u001b[38;5;241;43m.\u001b[39;49m\u001b[43mresults_overview\u001b[49m\u001b[38;5;241;43m.\u001b[39;49m\u001b[43mpivot\u001b[49m\u001b[43m(\u001b[49m\u001b[43mindex\u001b[49m\u001b[43m \u001b[49m\u001b[38;5;241;43m=\u001b[39;49m\u001b[43m \u001b[49m\u001b[38;5;124;43m\"\u001b[39;49m\u001b[38;5;124;43mFreq\u001b[39;49m\u001b[38;5;124;43m\"\u001b[39;49m\u001b[43m,\u001b[49m\u001b[43m \u001b[49m\u001b[43mcolumns\u001b[49m\u001b[43m \u001b[49m\u001b[38;5;241;43m=\u001b[39;49m\u001b[43m \u001b[49m\u001b[38;5;124;43m\"\u001b[39;49m\u001b[38;5;124;43mWindows\u001b[39;49m\u001b[38;5;124;43m\"\u001b[39;49m\u001b[43m,\u001b[49m\u001b[43m \u001b[49m\u001b[43mvalues\u001b[49m\u001b[43m \u001b[49m\u001b[38;5;241;43m=\u001b[39;49m\u001b[43m \u001b[49m\u001b[38;5;124;43m\"\u001b[39;49m\u001b[38;5;124;43mPerformance\u001b[39;49m\u001b[38;5;124;43m\"\u001b[39;49m\u001b[43m)\u001b[49m\n\u001b[0;32m    344\u001b[0m     plt\u001b[38;5;241m.\u001b[39mfigure(figsize\u001b[38;5;241m=\u001b[39m(\u001b[38;5;241m12\u001b[39m,\u001b[38;5;241m8\u001b[39m))\n\u001b[0;32m    345\u001b[0m     sns\u001b[38;5;241m.\u001b[39mset_theme(font_scale\u001b[38;5;241m=\u001b[39m\u001b[38;5;241m1.5\u001b[39m)\n",
      "File \u001b[1;32m~\\AppData\\Local\\Packages\\PythonSoftwareFoundation.Python.3.10_qbz5n2kfra8p0\\LocalCache\\local-packages\\Python310\\site-packages\\pandas\\core\\frame.py:9339\u001b[0m, in \u001b[0;36mDataFrame.pivot\u001b[1;34m(self, columns, index, values)\u001b[0m\n\u001b[0;32m   9332\u001b[0m \u001b[38;5;129m@Substitution\u001b[39m(\u001b[38;5;124m\"\u001b[39m\u001b[38;5;124m\"\u001b[39m)\n\u001b[0;32m   9333\u001b[0m \u001b[38;5;129m@Appender\u001b[39m(_shared_docs[\u001b[38;5;124m\"\u001b[39m\u001b[38;5;124mpivot\u001b[39m\u001b[38;5;124m\"\u001b[39m])\n\u001b[0;32m   9334\u001b[0m \u001b[38;5;28;01mdef\u001b[39;00m \u001b[38;5;21mpivot\u001b[39m(\n\u001b[0;32m   9335\u001b[0m     \u001b[38;5;28mself\u001b[39m, \u001b[38;5;241m*\u001b[39m, columns, index\u001b[38;5;241m=\u001b[39mlib\u001b[38;5;241m.\u001b[39mno_default, values\u001b[38;5;241m=\u001b[39mlib\u001b[38;5;241m.\u001b[39mno_default\n\u001b[0;32m   9336\u001b[0m ) \u001b[38;5;241m-\u001b[39m\u001b[38;5;241m>\u001b[39m DataFrame:\n\u001b[0;32m   9337\u001b[0m     \u001b[38;5;28;01mfrom\u001b[39;00m \u001b[38;5;21;01mpandas\u001b[39;00m\u001b[38;5;21;01m.\u001b[39;00m\u001b[38;5;21;01mcore\u001b[39;00m\u001b[38;5;21;01m.\u001b[39;00m\u001b[38;5;21;01mreshape\u001b[39;00m\u001b[38;5;21;01m.\u001b[39;00m\u001b[38;5;21;01mpivot\u001b[39;00m \u001b[38;5;28;01mimport\u001b[39;00m pivot\n\u001b[1;32m-> 9339\u001b[0m     \u001b[38;5;28;01mreturn\u001b[39;00m \u001b[43mpivot\u001b[49m\u001b[43m(\u001b[49m\u001b[38;5;28;43mself\u001b[39;49m\u001b[43m,\u001b[49m\u001b[43m \u001b[49m\u001b[43mindex\u001b[49m\u001b[38;5;241;43m=\u001b[39;49m\u001b[43mindex\u001b[49m\u001b[43m,\u001b[49m\u001b[43m \u001b[49m\u001b[43mcolumns\u001b[49m\u001b[38;5;241;43m=\u001b[39;49m\u001b[43mcolumns\u001b[49m\u001b[43m,\u001b[49m\u001b[43m \u001b[49m\u001b[43mvalues\u001b[49m\u001b[38;5;241;43m=\u001b[39;49m\u001b[43mvalues\u001b[49m\u001b[43m)\u001b[49m\n",
      "File \u001b[1;32m~\\AppData\\Local\\Packages\\PythonSoftwareFoundation.Python.3.10_qbz5n2kfra8p0\\LocalCache\\local-packages\\Python310\\site-packages\\pandas\\core\\reshape\\pivot.py:570\u001b[0m, in \u001b[0;36mpivot\u001b[1;34m(data, columns, index, values)\u001b[0m\n\u001b[0;32m    566\u001b[0m         indexed \u001b[38;5;241m=\u001b[39m data\u001b[38;5;241m.\u001b[39m_constructor_sliced(data[values]\u001b[38;5;241m.\u001b[39m_values, index\u001b[38;5;241m=\u001b[39mmultiindex)\n\u001b[0;32m    567\u001b[0m \u001b[38;5;66;03m# error: Argument 1 to \"unstack\" of \"DataFrame\" has incompatible type \"Union\u001b[39;00m\n\u001b[0;32m    568\u001b[0m \u001b[38;5;66;03m# [List[Any], ExtensionArray, ndarray[Any, Any], Index, Series]\"; expected\u001b[39;00m\n\u001b[0;32m    569\u001b[0m \u001b[38;5;66;03m# \"Hashable\"\u001b[39;00m\n\u001b[1;32m--> 570\u001b[0m result \u001b[38;5;241m=\u001b[39m \u001b[43mindexed\u001b[49m\u001b[38;5;241;43m.\u001b[39;49m\u001b[43munstack\u001b[49m\u001b[43m(\u001b[49m\u001b[43mcolumns_listlike\u001b[49m\u001b[43m)\u001b[49m  \u001b[38;5;66;03m# type: ignore[arg-type]\u001b[39;00m\n\u001b[0;32m    571\u001b[0m result\u001b[38;5;241m.\u001b[39mindex\u001b[38;5;241m.\u001b[39mnames \u001b[38;5;241m=\u001b[39m [\n\u001b[0;32m    572\u001b[0m     name \u001b[38;5;28;01mif\u001b[39;00m name \u001b[38;5;129;01mis\u001b[39;00m \u001b[38;5;129;01mnot\u001b[39;00m lib\u001b[38;5;241m.\u001b[39mno_default \u001b[38;5;28;01melse\u001b[39;00m \u001b[38;5;28;01mNone\u001b[39;00m \u001b[38;5;28;01mfor\u001b[39;00m name \u001b[38;5;129;01min\u001b[39;00m result\u001b[38;5;241m.\u001b[39mindex\u001b[38;5;241m.\u001b[39mnames\n\u001b[0;32m    573\u001b[0m ]\n\u001b[0;32m    575\u001b[0m \u001b[38;5;28;01mreturn\u001b[39;00m result\n",
      "File \u001b[1;32m~\\AppData\\Local\\Packages\\PythonSoftwareFoundation.Python.3.10_qbz5n2kfra8p0\\LocalCache\\local-packages\\Python310\\site-packages\\pandas\\core\\series.py:4615\u001b[0m, in \u001b[0;36mSeries.unstack\u001b[1;34m(self, level, fill_value, sort)\u001b[0m\n\u001b[0;32m   4570\u001b[0m \u001b[38;5;250m\u001b[39m\u001b[38;5;124;03m\"\"\"\u001b[39;00m\n\u001b[0;32m   4571\u001b[0m \u001b[38;5;124;03mUnstack, also known as pivot, Series with MultiIndex to produce DataFrame.\u001b[39;00m\n\u001b[0;32m   4572\u001b[0m \n\u001b[1;32m   (...)\u001b[0m\n\u001b[0;32m   4611\u001b[0m \u001b[38;5;124;03mb    2    4\u001b[39;00m\n\u001b[0;32m   4612\u001b[0m \u001b[38;5;124;03m\"\"\"\u001b[39;00m\n\u001b[0;32m   4613\u001b[0m \u001b[38;5;28;01mfrom\u001b[39;00m \u001b[38;5;21;01mpandas\u001b[39;00m\u001b[38;5;21;01m.\u001b[39;00m\u001b[38;5;21;01mcore\u001b[39;00m\u001b[38;5;21;01m.\u001b[39;00m\u001b[38;5;21;01mreshape\u001b[39;00m\u001b[38;5;21;01m.\u001b[39;00m\u001b[38;5;21;01mreshape\u001b[39;00m \u001b[38;5;28;01mimport\u001b[39;00m unstack\n\u001b[1;32m-> 4615\u001b[0m \u001b[38;5;28;01mreturn\u001b[39;00m \u001b[43munstack\u001b[49m\u001b[43m(\u001b[49m\u001b[38;5;28;43mself\u001b[39;49m\u001b[43m,\u001b[49m\u001b[43m \u001b[49m\u001b[43mlevel\u001b[49m\u001b[43m,\u001b[49m\u001b[43m \u001b[49m\u001b[43mfill_value\u001b[49m\u001b[43m,\u001b[49m\u001b[43m \u001b[49m\u001b[43msort\u001b[49m\u001b[43m)\u001b[49m\n",
      "File \u001b[1;32m~\\AppData\\Local\\Packages\\PythonSoftwareFoundation.Python.3.10_qbz5n2kfra8p0\\LocalCache\\local-packages\\Python310\\site-packages\\pandas\\core\\reshape\\reshape.py:517\u001b[0m, in \u001b[0;36munstack\u001b[1;34m(obj, level, fill_value, sort)\u001b[0m\n\u001b[0;32m    515\u001b[0m \u001b[38;5;28;01mif\u001b[39;00m is_1d_only_ea_dtype(obj\u001b[38;5;241m.\u001b[39mdtype):\n\u001b[0;32m    516\u001b[0m     \u001b[38;5;28;01mreturn\u001b[39;00m _unstack_extension_series(obj, level, fill_value, sort\u001b[38;5;241m=\u001b[39msort)\n\u001b[1;32m--> 517\u001b[0m unstacker \u001b[38;5;241m=\u001b[39m \u001b[43m_Unstacker\u001b[49m\u001b[43m(\u001b[49m\n\u001b[0;32m    518\u001b[0m \u001b[43m    \u001b[49m\u001b[43mobj\u001b[49m\u001b[38;5;241;43m.\u001b[39;49m\u001b[43mindex\u001b[49m\u001b[43m,\u001b[49m\u001b[43m \u001b[49m\u001b[43mlevel\u001b[49m\u001b[38;5;241;43m=\u001b[39;49m\u001b[43mlevel\u001b[49m\u001b[43m,\u001b[49m\u001b[43m \u001b[49m\u001b[43mconstructor\u001b[49m\u001b[38;5;241;43m=\u001b[39;49m\u001b[43mobj\u001b[49m\u001b[38;5;241;43m.\u001b[39;49m\u001b[43m_constructor_expanddim\u001b[49m\u001b[43m,\u001b[49m\u001b[43m \u001b[49m\u001b[43msort\u001b[49m\u001b[38;5;241;43m=\u001b[39;49m\u001b[43msort\u001b[49m\n\u001b[0;32m    519\u001b[0m \u001b[43m\u001b[49m\u001b[43m)\u001b[49m\n\u001b[0;32m    520\u001b[0m \u001b[38;5;28;01mreturn\u001b[39;00m unstacker\u001b[38;5;241m.\u001b[39mget_result(\n\u001b[0;32m    521\u001b[0m     obj\u001b[38;5;241m.\u001b[39m_values, value_columns\u001b[38;5;241m=\u001b[39m\u001b[38;5;28;01mNone\u001b[39;00m, fill_value\u001b[38;5;241m=\u001b[39mfill_value\n\u001b[0;32m    522\u001b[0m )\n",
      "File \u001b[1;32m~\\AppData\\Local\\Packages\\PythonSoftwareFoundation.Python.3.10_qbz5n2kfra8p0\\LocalCache\\local-packages\\Python310\\site-packages\\pandas\\core\\reshape\\reshape.py:154\u001b[0m, in \u001b[0;36m_Unstacker.__init__\u001b[1;34m(self, index, level, constructor, sort)\u001b[0m\n\u001b[0;32m    146\u001b[0m \u001b[38;5;28;01mif\u001b[39;00m num_cells \u001b[38;5;241m>\u001b[39m np\u001b[38;5;241m.\u001b[39miinfo(np\u001b[38;5;241m.\u001b[39mint32)\u001b[38;5;241m.\u001b[39mmax:\n\u001b[0;32m    147\u001b[0m     warnings\u001b[38;5;241m.\u001b[39mwarn(\n\u001b[0;32m    148\u001b[0m         \u001b[38;5;124mf\u001b[39m\u001b[38;5;124m\"\u001b[39m\u001b[38;5;124mThe following operation may generate \u001b[39m\u001b[38;5;132;01m{\u001b[39;00mnum_cells\u001b[38;5;132;01m}\u001b[39;00m\u001b[38;5;124m cells \u001b[39m\u001b[38;5;124m\"\u001b[39m\n\u001b[0;32m    149\u001b[0m         \u001b[38;5;124mf\u001b[39m\u001b[38;5;124m\"\u001b[39m\u001b[38;5;124min the resulting pandas object.\u001b[39m\u001b[38;5;124m\"\u001b[39m,\n\u001b[0;32m    150\u001b[0m         PerformanceWarning,\n\u001b[0;32m    151\u001b[0m         stacklevel\u001b[38;5;241m=\u001b[39mfind_stack_level(),\n\u001b[0;32m    152\u001b[0m     )\n\u001b[1;32m--> 154\u001b[0m \u001b[38;5;28;43mself\u001b[39;49m\u001b[38;5;241;43m.\u001b[39;49m\u001b[43m_make_selectors\u001b[49m\u001b[43m(\u001b[49m\u001b[43m)\u001b[49m\n",
      "File \u001b[1;32m~\\AppData\\Local\\Packages\\PythonSoftwareFoundation.Python.3.10_qbz5n2kfra8p0\\LocalCache\\local-packages\\Python310\\site-packages\\pandas\\core\\reshape\\reshape.py:210\u001b[0m, in \u001b[0;36m_Unstacker._make_selectors\u001b[1;34m(self)\u001b[0m\n\u001b[0;32m    207\u001b[0m mask\u001b[38;5;241m.\u001b[39mput(selector, \u001b[38;5;28;01mTrue\u001b[39;00m)\n\u001b[0;32m    209\u001b[0m \u001b[38;5;28;01mif\u001b[39;00m mask\u001b[38;5;241m.\u001b[39msum() \u001b[38;5;241m<\u001b[39m \u001b[38;5;28mlen\u001b[39m(\u001b[38;5;28mself\u001b[39m\u001b[38;5;241m.\u001b[39mindex):\n\u001b[1;32m--> 210\u001b[0m     \u001b[38;5;28;01mraise\u001b[39;00m \u001b[38;5;167;01mValueError\u001b[39;00m(\u001b[38;5;124m\"\u001b[39m\u001b[38;5;124mIndex contains duplicate entries, cannot reshape\u001b[39m\u001b[38;5;124m\"\u001b[39m)\n\u001b[0;32m    212\u001b[0m \u001b[38;5;28mself\u001b[39m\u001b[38;5;241m.\u001b[39mgroup_index \u001b[38;5;241m=\u001b[39m comp_index\n\u001b[0;32m    213\u001b[0m \u001b[38;5;28mself\u001b[39m\u001b[38;5;241m.\u001b[39mmask \u001b[38;5;241m=\u001b[39m mask\n",
      "\u001b[1;31mValueError\u001b[0m: Index contains duplicate entries, cannot reshape"
     ]
    }
   ],
   "source": [
    "tester.visualize_many()"
   ]
  },
  {
   "cell_type": "code",
   "execution_count": 27,
   "id": "bb6b4164",
   "metadata": {},
   "outputs": [
    {
     "data": {
      "text/html": [
       "<div>\n",
       "<style scoped>\n",
       "    .dataframe tbody tr th:only-of-type {\n",
       "        vertical-align: middle;\n",
       "    }\n",
       "\n",
       "    .dataframe tbody tr th {\n",
       "        vertical-align: top;\n",
       "    }\n",
       "\n",
       "    .dataframe thead th {\n",
       "        text-align: right;\n",
       "    }\n",
       "</style>\n",
       "<table border=\"1\" class=\"dataframe\">\n",
       "  <thead>\n",
       "    <tr style=\"text-align: right;\">\n",
       "      <th></th>\n",
       "      <th>Freq</th>\n",
       "      <th>Windows</th>\n",
       "      <th>Devs</th>\n",
       "      <th>Performance</th>\n",
       "    </tr>\n",
       "  </thead>\n",
       "  <tbody>\n",
       "    <tr>\n",
       "      <th>0</th>\n",
       "      <td>51</td>\n",
       "      <td>51</td>\n",
       "      <td>2</td>\n",
       "      <td>0.999803</td>\n",
       "    </tr>\n",
       "    <tr>\n",
       "      <th>1</th>\n",
       "      <td>51</td>\n",
       "      <td>51</td>\n",
       "      <td>3</td>\n",
       "      <td>0.989564</td>\n",
       "    </tr>\n",
       "    <tr>\n",
       "      <th>2</th>\n",
       "      <td>51</td>\n",
       "      <td>56</td>\n",
       "      <td>2</td>\n",
       "      <td>1.103150</td>\n",
       "    </tr>\n",
       "    <tr>\n",
       "      <th>3</th>\n",
       "      <td>51</td>\n",
       "      <td>56</td>\n",
       "      <td>3</td>\n",
       "      <td>1.002493</td>\n",
       "    </tr>\n",
       "    <tr>\n",
       "      <th>4</th>\n",
       "      <td>51</td>\n",
       "      <td>61</td>\n",
       "      <td>2</td>\n",
       "      <td>1.058357</td>\n",
       "    </tr>\n",
       "    <tr>\n",
       "      <th>...</th>\n",
       "      <td>...</td>\n",
       "      <td>...</td>\n",
       "      <td>...</td>\n",
       "      <td>...</td>\n",
       "    </tr>\n",
       "    <tr>\n",
       "      <th>4995</th>\n",
       "      <td>296</td>\n",
       "      <td>286</td>\n",
       "      <td>3</td>\n",
       "      <td>1.000000</td>\n",
       "    </tr>\n",
       "    <tr>\n",
       "      <th>4996</th>\n",
       "      <td>296</td>\n",
       "      <td>291</td>\n",
       "      <td>2</td>\n",
       "      <td>1.015634</td>\n",
       "    </tr>\n",
       "    <tr>\n",
       "      <th>4997</th>\n",
       "      <td>296</td>\n",
       "      <td>291</td>\n",
       "      <td>3</td>\n",
       "      <td>1.000000</td>\n",
       "    </tr>\n",
       "    <tr>\n",
       "      <th>4998</th>\n",
       "      <td>296</td>\n",
       "      <td>296</td>\n",
       "      <td>2</td>\n",
       "      <td>1.015634</td>\n",
       "    </tr>\n",
       "    <tr>\n",
       "      <th>4999</th>\n",
       "      <td>296</td>\n",
       "      <td>296</td>\n",
       "      <td>3</td>\n",
       "      <td>1.000000</td>\n",
       "    </tr>\n",
       "  </tbody>\n",
       "</table>\n",
       "<p>5000 rows × 4 columns</p>\n",
       "</div>"
      ],
      "text/plain": [
       "      Freq  Windows  Devs  Performance\n",
       "0       51       51     2     0.999803\n",
       "1       51       51     3     0.989564\n",
       "2       51       56     2     1.103150\n",
       "3       51       56     3     1.002493\n",
       "4       51       61     2     1.058357\n",
       "...    ...      ...   ...          ...\n",
       "4995   296      286     3     1.000000\n",
       "4996   296      291     2     1.015634\n",
       "4997   296      291     3     1.000000\n",
       "4998   296      296     2     1.015634\n",
       "4999   296      296     3     1.000000\n",
       "\n",
       "[5000 rows x 4 columns]"
      ]
     },
     "execution_count": 27,
     "metadata": {},
     "output_type": "execute_result"
    }
   ],
   "source": [
    "q1 = tester.results_overview\n",
    "q1"
   ]
  },
  {
   "cell_type": "markdown",
   "id": "17bcc201",
   "metadata": {},
   "source": [
    "__2. Quarter 2018__"
   ]
  },
  {
   "cell_type": "code",
   "execution_count": null,
   "id": "5bd09207",
   "metadata": {},
   "outputs": [],
   "source": [
    "tester = BollBacktester(filepath = filepath, symbol = symbol, start = start2, end = end2, tc = ptc)\n",
    "tester"
   ]
  },
  {
   "cell_type": "code",
   "execution_count": 22,
   "id": "3941476c",
   "metadata": {},
   "outputs": [
    {
     "name": "stdout",
     "output_type": "stream",
     "text": [
      "Frequency: 56 | Windows: 131 | Devs: 2 | Multiple: 1.144785\n",
      "====================================================================================================\n",
      "SIMPLE BOLLINGER BAND STRATEGY | INSTRUMENT = EURUSD | Freq: 56min | WINDOW = 131\n",
      "----------------------------------------------------------------------------------------------------\n",
      "PERFORMANCE MEASURES:\n",
      "\n",
      "\n",
      "Multiple (Strategy):         1.197514\n",
      "Multiple (Buy-and-Hold):     1.61917\n",
      "--------------------------------------\n",
      "Out-/Underperformance:       -0.421656\n",
      "\n",
      "\n",
      "CAGR:                        1.061568\n",
      "Annualized Mean:             0.669367\n",
      "Annualized Std:              0.106625\n",
      "Sharpe Ratio:                6.277791\n",
      "Sortino Ratio:               11.435983\n",
      "Maximum Drawdown:            0.134619\n",
      "Calmar Ratio:                7.88571\n",
      "Max Drawdown Duration:       68 Days\n",
      "Kelly Criterion:             58.764712\n",
      "====================================================================================================\n"
     ]
    }
   ],
   "source": [
    "tester.optimize_strategy((51, 301, 5), (51, 301, 5), (2, 3, 1), metric = \"Multiple\") "
   ]
  },
  {
   "cell_type": "code",
   "execution_count": null,
   "id": "5e9b9ebd",
   "metadata": {},
   "outputs": [],
   "source": [
    "tester.visualize_many()"
   ]
  },
  {
   "cell_type": "code",
   "execution_count": null,
   "id": "972e6675",
   "metadata": {},
   "outputs": [],
   "source": [
    "q2 = tester.results_overview\n",
    "q2"
   ]
  },
  {
   "cell_type": "markdown",
   "id": "112f2f47",
   "metadata": {},
   "source": [
    "__3. Quarter 2018__"
   ]
  },
  {
   "cell_type": "code",
   "execution_count": null,
   "id": "fd12dad9",
   "metadata": {},
   "outputs": [],
   "source": [
    "tester = BollBacktester(filepath = filepath, symbol = symbol, start = start3, end = end3, tc = ptc)\n",
    "tester"
   ]
  },
  {
   "cell_type": "code",
   "execution_count": null,
   "id": "78ecffce",
   "metadata": {},
   "outputs": [],
   "source": [
    "tester.optimize_strategy((51, 301, 5), (51, 301, 5), (2, 3, 1), metric = \"Multiple\") "
   ]
  },
  {
   "cell_type": "code",
   "execution_count": null,
   "id": "e3b4bb1a",
   "metadata": {},
   "outputs": [],
   "source": [
    "tester.visualize_many()"
   ]
  },
  {
   "cell_type": "code",
   "execution_count": null,
   "id": "3be6609d",
   "metadata": {},
   "outputs": [],
   "source": [
    "q3 = tester.results_overview\n",
    "q3"
   ]
  },
  {
   "cell_type": "markdown",
   "id": "37a9b1b8",
   "metadata": {},
   "source": [
    "__4. Quarter 2018__"
   ]
  },
  {
   "cell_type": "code",
   "execution_count": null,
   "id": "14f96852",
   "metadata": {},
   "outputs": [],
   "source": [
    "tester = BollBacktester(filepath = filepath, symbol = symbol, start = start4, end = end4, tc = ptc)\n",
    "tester"
   ]
  },
  {
   "cell_type": "code",
   "execution_count": null,
   "id": "853d6b5d",
   "metadata": {},
   "outputs": [],
   "source": [
    "tester.optimize_strategy((51, 301, 5), (51, 301, 5), (2, 3, 1), metric = \"Multiple\") "
   ]
  },
  {
   "cell_type": "code",
   "execution_count": null,
   "id": "53f4f778",
   "metadata": {},
   "outputs": [],
   "source": [
    "tester.visualize_many()"
   ]
  },
  {
   "cell_type": "code",
   "execution_count": null,
   "id": "22498ddd",
   "metadata": {},
   "outputs": [],
   "source": [
    "q4 = tester.results_overview\n",
    "q4"
   ]
  },
  {
   "cell_type": "markdown",
   "id": "7a62bbd6",
   "metadata": {},
   "source": [
    "__Comparing all four quarters__\n"
   ]
  },
  {
   "cell_type": "code",
   "execution_count": null,
   "id": "489c8689",
   "metadata": {},
   "outputs": [],
   "source": [
    "# Concatenate DataFrames\n",
    "comp = pd.concat([q1, q2, q3, q4], axis=1)\n",
    "\n",
    "# Select relevant columns for output\n",
    "comp = comp.iloc[:, [0, 1, 2, 3, 7, 11, 15]]  # Adjust column indices as needed\n",
    "\n",
    "# Rename columns for clarity\n",
    "comp.columns = [\"Freq\", \"Windows\", \"Dev\", \"Performance_Q1\", \"Performance_Q2\", \"Performance_Q3\", \"Performance_Q4\"]\n",
    "\n",
    "comp = comp.dropna()\n",
    "\n",
    "# Calculate the mean of performance columns\n",
    "comp[\"Score1\"] = comp[[\"Performance_Q1\", \"Performance_Q2\", \"Performance_Q3\", \"Performance_Q4\"]].mean(axis=1)\n",
    "comp"
   ]
  },
  {
   "cell_type": "code",
   "execution_count": null,
   "id": "3d15fdfa",
   "metadata": {},
   "outputs": [],
   "source": [
    "comp.iloc[:, 3:7].rank(ascending = False)"
   ]
  },
  {
   "cell_type": "code",
   "execution_count": null,
   "id": "a35b4691",
   "metadata": {},
   "outputs": [],
   "source": [
    "comp[\"Score2\"] = (comp.iloc[:, 3:7].rank(ascending = False)**2).mean(axis = 1) # mean rank\n",
    "comp"
   ]
  },
  {
   "cell_type": "code",
   "execution_count": null,
   "id": "aa9d4a80",
   "metadata": {},
   "outputs": [],
   "source": [
    "comp.sort_values(by = \"Score1\", ascending = False).head(20)"
   ]
  },
  {
   "cell_type": "code",
   "execution_count": null,
   "id": "c9bfcb42",
   "metadata": {},
   "outputs": [],
   "source": [
    "comp.sort_values(by = \"Score2\", ascending = True).head(20)"
   ]
  },
  {
   "cell_type": "markdown",
   "id": "db653ecd",
   "metadata": {},
   "source": [
    "## Backtesting / Forward Testing a stable Strategy"
   ]
  },
  {
   "cell_type": "code",
   "execution_count": null,
   "id": "17165942",
   "metadata": {},
   "outputs": [],
   "source": [
    "tester = BollBacktester(filepath = filepath, symbol = symbol, start = \"2018-01-01\", end = end1, tc = ptc)\n",
    "tester"
   ]
  },
  {
   "cell_type": "code",
   "execution_count": null,
   "id": "1458f60e",
   "metadata": {},
   "outputs": [],
   "source": [
    "tester.export_resampled_data(freq=141, window=131, dev=2, file_name=\"one_minute_resampled_data.csv\")"
   ]
  },
  {
   "cell_type": "code",
   "execution_count": 35,
   "id": "e5e3727d",
   "metadata": {},
   "outputs": [
    {
     "name": "stdout",
     "output_type": "stream",
     "text": [
      "====================================================================================================\n",
      "SIMPLE BOLLINGER BAND STRATEGY | INSTRUMENT = EURUSD | Freq: 56min | WINDOW = 116\n",
      "----------------------------------------------------------------------------------------------------\n",
      "PERFORMANCE MEASURES:\n",
      "\n",
      "\n",
      "Multiple (Strategy):         1.204271\n",
      "Multiple (Buy-and-Hold):     1.602615\n",
      "--------------------------------------\n",
      "Out-/Underperformance:       -0.398344\n",
      "\n",
      "\n",
      "CAGR:                        1.075097\n",
      "Annualized Mean:             0.686599\n",
      "Annualized Std:              0.114936\n",
      "Sharpe Ratio:                5.973777\n",
      "Sortino Ratio:               9.266425\n",
      "Maximum Drawdown:            0.13252\n",
      "Calmar Ratio:                8.112731\n",
      "Max Drawdown Duration:       67 Days\n",
      "Kelly Criterion:             52.174949\n",
      "====================================================================================================\n"
     ]
    }
   ],
   "source": [
    "tester.test_strategy(56, 116, 2)"
   ]
  },
  {
   "cell_type": "code",
   "execution_count": null,
   "id": "b26c54b1",
   "metadata": {},
   "outputs": [],
   "source": [
    "tester.plot_results()"
   ]
  },
  {
   "cell_type": "code",
   "execution_count": null,
   "id": "446b8a38",
   "metadata": {},
   "outputs": [],
   "source": [
    "tester.add_leverage(50, sl = -0.4)"
   ]
  },
  {
   "cell_type": "code",
   "execution_count": null,
   "id": "1b82e3df",
   "metadata": {},
   "outputs": [],
   "source": [
    "tester.plot_results(leverage=True)"
   ]
  },
  {
   "cell_type": "markdown",
   "id": "9c65ad3d",
   "metadata": {},
   "source": [
    "__Forward Testing__"
   ]
  },
  {
   "cell_type": "code",
   "execution_count": null,
   "id": "9d39438b",
   "metadata": {},
   "outputs": [],
   "source": [
    "tester = BollBacktester(filepath = filepath, symbol = symbol, start = \"2019-01-01\", end = \"2019-12-31\", tc = ptc)\n",
    "tester"
   ]
  },
  {
   "cell_type": "code",
   "execution_count": null,
   "id": "adc7d7d9",
   "metadata": {},
   "outputs": [],
   "source": [
    "tester.test_strategy(141, 131, 2)"
   ]
  },
  {
   "cell_type": "code",
   "execution_count": null,
   "id": "8354ac23",
   "metadata": {},
   "outputs": [],
   "source": [
    "tester.add_leverage(50, sl = -0.4)"
   ]
  },
  {
   "cell_type": "code",
   "execution_count": null,
   "id": "1c0997bd",
   "metadata": {},
   "outputs": [],
   "source": [
    "tester.plot_results()"
   ]
  },
  {
   "cell_type": "code",
   "execution_count": null,
   "id": "1e192544",
   "metadata": {},
   "outputs": [],
   "source": [
    "tester.plot_results(leverage=True)"
   ]
  },
  {
   "cell_type": "markdown",
   "id": "de1a0d55",
   "metadata": {},
   "source": [
    "__Iterative Testing__"
   ]
  },
  {
   "cell_type": "code",
   "execution_count": null,
   "id": "550fd6c7",
   "metadata": {},
   "outputs": [],
   "source": [
    "import sys\n",
    "sys.path.append(r\"../../MyCode\")  # Add the relative path to the Python path\n",
    "import IterativeBacktest as IB"
   ]
  },
  {
   "cell_type": "code",
   "execution_count": null,
   "id": "3922baa7",
   "metadata": {},
   "outputs": [],
   "source": [
    "bc = IB.IterativeBacktest(symbol, \"2018-01-18\", \"2018-03-30\", 100000, use_spread = True)"
   ]
  },
  {
   "cell_type": "code",
   "execution_count": null,
   "id": "6e130059",
   "metadata": {},
   "outputs": [],
   "source": [
    "bc.data"
   ]
  },
  {
   "cell_type": "code",
   "execution_count": null,
   "id": "08192356",
   "metadata": {},
   "outputs": [],
   "source": [
    "bc.test_boll_strategy(131, 2)"
   ]
  }
 ],
 "metadata": {
  "kernelspec": {
   "display_name": "Python 3",
   "language": "python",
   "name": "python3"
  },
  "language_info": {
   "codemirror_mode": {
    "name": "ipython",
    "version": 3
   },
   "file_extension": ".py",
   "mimetype": "text/x-python",
   "name": "python",
   "nbconvert_exporter": "python",
   "pygments_lexer": "ipython3",
   "version": "3.10.11"
  }
 },
 "nbformat": 4,
 "nbformat_minor": 5
}
