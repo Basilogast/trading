{
 "cells": [
  {
   "cell_type": "code",
   "execution_count": null,
   "id": "472bbabd",
   "metadata": {},
   "outputs": [],
   "source": [
    "import pandas as pd\n",
    "import sys\n",
    "sys.path.append(r\"e:/work/IT/trading/MyCode/BollBacktest\")  # Add the directory to the Python path\n",
    "\n",
    "from BollBacktester import BollBacktester  # Import the class"
   ]
  },
  {
   "cell_type": "code",
   "execution_count": null,
   "id": "69413b7e",
   "metadata": {},
   "outputs": [],
   "source": [
    "filepath = \"./data/one_minute.csv\"  # Updated to correct relative path\n",
    "symbol = \"GBPUSD\"\n",
    "\n",
    "start1 = \"2018-01-01\"\n",
    "end1 = \"2018-03-31\"\n",
    "start2 = \"2018-04-01\"\n",
    "end2 = \"2018-06-30\"\n",
    "start3 = \"2018-07-01\"\n",
    "end3 = \"2018-09-30\"\n",
    "start4 = \"2018-10-01\"\n",
    "end4 = \"2018-12-31\"\n",
    "\n",
    "end5 = \"2019-06-30\"\n",
    "\n",
    "ptc = 0.00007"
   ]
  },
  {
   "cell_type": "markdown",
   "id": "6a5a8362",
   "metadata": {},
   "source": [
    "__1. Quarter 2018__"
   ]
  },
  {
   "cell_type": "code",
   "execution_count": null,
   "id": "e586a56f",
   "metadata": {},
   "outputs": [],
   "source": [
    "tester = BollBacktester(filepath = filepath, symbol = symbol, start = start1, end = end1, tc = ptc)\n",
    "tester"
   ]
  },
  {
   "cell_type": "code",
   "execution_count": null,
   "id": "6747c8b5",
   "metadata": {},
   "outputs": [],
   "source": [
    "tester.download_recent_data(\"GBP_USD\", 100000, \"GBP_recent_data_1.csv\")"
   ]
  },
  {
   "cell_type": "code",
   "execution_count": null,
   "id": "bbf0fe36",
   "metadata": {},
   "outputs": [],
   "source": [
    "tester.get_data_oanda(\"./data/GBP_recent_data_1.csv\", \"2025-03-11\", \"2025-04-03\")"
   ]
  },
  {
   "cell_type": "code",
   "execution_count": null,
   "id": "1a31dff2",
   "metadata": {},
   "outputs": [],
   "source": [
    "tester.data"
   ]
  },
  {
   "cell_type": "code",
   "execution_count": null,
   "id": "447a4f05",
   "metadata": {},
   "outputs": [],
   "source": [
    "tester.data.columns"
   ]
  },
  {
   "cell_type": "code",
   "execution_count": null,
   "id": "351c7a5d",
   "metadata": {},
   "outputs": [],
   "source": [
    "tester.optimize_strategy((51, 301, 5), (51,301, 5), (2, 4, 1), metric = \"Multiple\") # keep dev constant (2)"
   ]
  },
  {
   "cell_type": "code",
   "execution_count": null,
   "id": "5c73e0e6",
   "metadata": {},
   "outputs": [],
   "source": [
    "q1 = tester.results_overview\n",
    "q1"
   ]
  },
  {
   "cell_type": "code",
   "execution_count": null,
   "id": "e21b43bd",
   "metadata": {},
   "outputs": [],
   "source": [
    "tester.visualize_many()"
   ]
  },
  {
   "cell_type": "code",
   "execution_count": null,
   "id": "4f694531",
   "metadata": {},
   "outputs": [],
   "source": [
    "print(tester.results_overview.head())"
   ]
  },
  {
   "cell_type": "code",
   "execution_count": null,
   "id": "bb6b4164",
   "metadata": {},
   "outputs": [],
   "source": [
    "q1 = tester.results_overview\n",
    "q1"
   ]
  },
  {
   "cell_type": "markdown",
   "id": "17bcc201",
   "metadata": {},
   "source": [
    "__2. Quarter 2018__"
   ]
  },
  {
   "cell_type": "code",
   "execution_count": null,
   "id": "5bd09207",
   "metadata": {},
   "outputs": [],
   "source": [
    "tester.get_data_oanda(\"./data/GBP_recent_data_1.csv\", \"2025-04-03\", \"2025-04-29\")"
   ]
  },
  {
   "cell_type": "code",
   "execution_count": null,
   "id": "3941476c",
   "metadata": {},
   "outputs": [],
   "source": [
    "tester.optimize_strategy((51, 301, 5), (51, 301, 5), (2, 3, 1), metric = \"Multiple\") "
   ]
  },
  {
   "cell_type": "code",
   "execution_count": null,
   "id": "5e9b9ebd",
   "metadata": {},
   "outputs": [],
   "source": [
    "tester.visualize_many()"
   ]
  },
  {
   "cell_type": "code",
   "execution_count": null,
   "id": "972e6675",
   "metadata": {},
   "outputs": [],
   "source": [
    "q2 = tester.results_overview\n",
    "q2"
   ]
  },
  {
   "cell_type": "markdown",
   "id": "112f2f47",
   "metadata": {},
   "source": [
    "__3. Quarter 2018__"
   ]
  },
  {
   "cell_type": "code",
   "execution_count": null,
   "id": "fd12dad9",
   "metadata": {},
   "outputs": [],
   "source": [
    "tester.get_data_oanda(\"./data/GBP_recent_data_1.csv\", \"2025-04-29\", \"2025-05-22\")"
   ]
  },
  {
   "cell_type": "code",
   "execution_count": null,
   "id": "78ecffce",
   "metadata": {},
   "outputs": [],
   "source": [
    "tester.optimize_strategy((51, 301, 5), (51, 301, 5), (2, 3, 1), metric = \"Multiple\") "
   ]
  },
  {
   "cell_type": "code",
   "execution_count": null,
   "id": "e3b4bb1a",
   "metadata": {},
   "outputs": [],
   "source": [
    "tester.visualize_many()"
   ]
  },
  {
   "cell_type": "code",
   "execution_count": null,
   "id": "3be6609d",
   "metadata": {},
   "outputs": [],
   "source": [
    "q3 = tester.results_overview\n",
    "q3"
   ]
  },
  {
   "cell_type": "markdown",
   "id": "37a9b1b8",
   "metadata": {},
   "source": [
    "__4. Quarter 2018__"
   ]
  },
  {
   "cell_type": "code",
   "execution_count": null,
   "id": "14f96852",
   "metadata": {},
   "outputs": [],
   "source": [
    "tester.get_data_oanda(\"./data/GBP_recent_data_1.csv\", \"2025-05-22\", \"2025-06-17\")"
   ]
  },
  {
   "cell_type": "code",
   "execution_count": null,
   "id": "853d6b5d",
   "metadata": {},
   "outputs": [],
   "source": [
    "tester.optimize_strategy((51, 301, 5), (51, 301, 5), (2, 3, 1), metric = \"Multiple\") "
   ]
  },
  {
   "cell_type": "code",
   "execution_count": null,
   "id": "53f4f778",
   "metadata": {},
   "outputs": [],
   "source": [
    "tester.visualize_many()"
   ]
  },
  {
   "cell_type": "code",
   "execution_count": null,
   "id": "22498ddd",
   "metadata": {},
   "outputs": [],
   "source": [
    "q4 = tester.results_overview\n",
    "q4"
   ]
  },
  {
   "cell_type": "markdown",
   "id": "7a62bbd6",
   "metadata": {},
   "source": [
    "__Comparing all four quarters__\n"
   ]
  },
  {
   "cell_type": "code",
   "execution_count": null,
   "id": "489c8689",
   "metadata": {},
   "outputs": [],
   "source": [
    "# Concatenate DataFrames\n",
    "comp = pd.concat([q1, q2, q3, q4], axis=1)\n",
    "\n",
    "# Select relevant columns for output\n",
    "comp = comp.iloc[:, [0, 1, 2, 3, 7, 11, 15]]  # Adjust column indices as needed\n",
    "\n",
    "# Rename columns for clarity\n",
    "comp.columns = [\"Freq\", \"Windows\", \"Dev\", \"Performance_Q1\", \"Performance_Q2\", \"Performance_Q3\", \"Performance_Q4\"]\n",
    "\n",
    "comp = comp.dropna()\n",
    "\n",
    "# Calculate the mean of performance columns\n",
    "comp[\"Score1\"] = comp[[\"Performance_Q1\", \"Performance_Q2\", \"Performance_Q3\", \"Performance_Q4\"]].mean(axis=1)\n",
    "comp"
   ]
  },
  {
   "cell_type": "code",
   "execution_count": null,
   "id": "3d15fdfa",
   "metadata": {},
   "outputs": [],
   "source": [
    "comp.iloc[:, 3:7].rank(ascending = False)"
   ]
  },
  {
   "cell_type": "code",
   "execution_count": null,
   "id": "a35b4691",
   "metadata": {},
   "outputs": [],
   "source": [
    "comp[\"Score2\"] = (comp.iloc[:, 3:7].rank(ascending = False)**2).mean(axis = 1) # mean rank\n",
    "comp"
   ]
  },
  {
   "cell_type": "code",
   "execution_count": null,
   "id": "aa9d4a80",
   "metadata": {},
   "outputs": [],
   "source": [
    "comp.sort_values(by = \"Score1\", ascending = False).head(20)"
   ]
  },
  {
   "cell_type": "code",
   "execution_count": null,
   "id": "c9bfcb42",
   "metadata": {},
   "outputs": [],
   "source": [
    "comp.sort_values(by = \"Score2\", ascending = True).head(20)"
   ]
  },
  {
   "cell_type": "markdown",
   "id": "db653ecd",
   "metadata": {},
   "source": [
    "## Backtesting / Forward Testing a stable Strategy"
   ]
  },
  {
   "cell_type": "code",
   "execution_count": null,
   "id": "4132874e",
   "metadata": {},
   "outputs": [],
   "source": [
    "tester.get_data_oanda(\"./data/GBP_recent_data_1.csv\", \"2025-03-12\", \"2025-06-17\")"
   ]
  },
  {
   "cell_type": "code",
   "execution_count": null,
   "id": "e5e3727d",
   "metadata": {},
   "outputs": [],
   "source": [
    "tester.test_strategy(121, 181, 2)"
   ]
  },
  {
   "cell_type": "code",
   "execution_count": null,
   "id": "b26c54b1",
   "metadata": {},
   "outputs": [],
   "source": [
    "tester.plot_results()"
   ]
  },
  {
   "cell_type": "code",
   "execution_count": null,
   "id": "446b8a38",
   "metadata": {},
   "outputs": [],
   "source": [
    "tester.add_leverage(3, sl = -0.4)"
   ]
  },
  {
   "cell_type": "code",
   "execution_count": null,
   "id": "1b82e3df",
   "metadata": {},
   "outputs": [],
   "source": [
    "tester.plot_results(leverage=True)"
   ]
  },
  {
   "cell_type": "markdown",
   "id": "9c65ad3d",
   "metadata": {},
   "source": [
    "__Forward Testing__"
   ]
  },
  {
   "cell_type": "code",
   "execution_count": null,
   "id": "9d39438b",
   "metadata": {},
   "outputs": [],
   "source": [
    "tester = BollBacktester(filepath = filepath, symbol = symbol, start = \"2019-01-01\", end = \"2019-12-31\", tc = ptc)\n",
    "tester"
   ]
  },
  {
   "cell_type": "code",
   "execution_count": null,
   "id": "adc7d7d9",
   "metadata": {},
   "outputs": [],
   "source": [
    "tester.test_strategy(121, 181, 2)"
   ]
  },
  {
   "cell_type": "code",
   "execution_count": null,
   "id": "8354ac23",
   "metadata": {},
   "outputs": [],
   "source": [
    "tester.add_leverage(4, sl = -0.4)"
   ]
  },
  {
   "cell_type": "code",
   "execution_count": null,
   "id": "1c0997bd",
   "metadata": {},
   "outputs": [],
   "source": [
    "tester.plot_results()"
   ]
  },
  {
   "cell_type": "code",
   "execution_count": null,
   "id": "1e192544",
   "metadata": {},
   "outputs": [],
   "source": [
    "tester.plot_results(leverage=True)"
   ]
  },
  {
   "cell_type": "markdown",
   "id": "de1a0d55",
   "metadata": {},
   "source": [
    "__Iterative Testing__"
   ]
  },
  {
   "cell_type": "code",
   "execution_count": 1,
   "id": "ee4a88de",
   "metadata": {},
   "outputs": [],
   "source": [
    "import pandas as pd\n",
    "import sys\n",
    "sys.path.append(r\"e:/work/IT/trading/MyCode/BollBacktest\")  # Add the directory to the Python path\n",
    "\n",
    "from BollBacktester import BollBacktester  # Import the class"
   ]
  },
  {
   "cell_type": "code",
   "execution_count": 2,
   "id": "550fd6c7",
   "metadata": {},
   "outputs": [],
   "source": [
    "import sys\n",
    "sys.path.append(r\"../../MyCode/BollBacktest\")  # Add the relative path to the Python path\n",
    "import IterativeBacktest as IB"
   ]
  },
  {
   "cell_type": "code",
   "execution_count": 3,
   "id": "00db618d",
   "metadata": {},
   "outputs": [],
   "source": [
    "filepath = \"./data/one_minute.csv\"  # Updated to correct relative path\n",
    "symbol = \"GBPUSD\"\n",
    "\n",
    "start1 = \"2018-01-01\"\n",
    "end1 = \"2018-03-31\"\n",
    "start2 = \"2018-04-01\"\n",
    "end2 = \"2018-06-30\"\n",
    "start3 = \"2018-07-01\"\n",
    "end3 = \"2018-09-30\"\n",
    "start4 = \"2018-10-01\"\n",
    "end4 = \"2018-12-31\"\n",
    "\n",
    "end5 = \"2019-06-30\"\n",
    "\n",
    "ptc = 0.00007"
   ]
  },
  {
   "cell_type": "code",
   "execution_count": 4,
   "id": "3922baa7",
   "metadata": {},
   "outputs": [
    {
     "name": "stdout",
     "output_type": "stream",
     "text": [
      "Loading data from: e:\\work\\IT\\trading\\MyCode\\BollBacktest\\data\\GBP_recent_data_1.csv\n",
      "Date range: 2018-01-18 to 2018-03-30\n",
      "Data loaded. Total rows before filtering: 99999\n",
      "Total rows after filtering by date range: 0\n",
      "Warning: No data available for the specified date range.\n",
      "Data successfully loaded and processed.\n"
     ]
    }
   ],
   "source": [
    "bc = IB.IterativeBacktest(symbol, \"2025-03-14\", \"2018-03-30\", 100000, use_spread = True)"
   ]
  },
  {
   "cell_type": "code",
   "execution_count": 5,
   "id": "6e130059",
   "metadata": {},
   "outputs": [
    {
     "data": {
      "text/html": [
       "<div>\n",
       "<style scoped>\n",
       "    .dataframe tbody tr th:only-of-type {\n",
       "        vertical-align: middle;\n",
       "    }\n",
       "\n",
       "    .dataframe tbody tr th {\n",
       "        vertical-align: top;\n",
       "    }\n",
       "\n",
       "    .dataframe thead th {\n",
       "        text-align: right;\n",
       "    }\n",
       "</style>\n",
       "<table border=\"1\" class=\"dataframe\">\n",
       "  <thead>\n",
       "    <tr style=\"text-align: right;\">\n",
       "      <th></th>\n",
       "      <th>price</th>\n",
       "      <th>spread</th>\n",
       "      <th>returns</th>\n",
       "    </tr>\n",
       "    <tr>\n",
       "      <th>time</th>\n",
       "      <th></th>\n",
       "      <th></th>\n",
       "      <th></th>\n",
       "    </tr>\n",
       "  </thead>\n",
       "  <tbody>\n",
       "  </tbody>\n",
       "</table>\n",
       "</div>"
      ],
      "text/plain": [
       "Empty DataFrame\n",
       "Columns: [price, spread, returns]\n",
       "Index: []"
      ]
     },
     "execution_count": 5,
     "metadata": {},
     "output_type": "execute_result"
    }
   ],
   "source": [
    "bc.data"
   ]
  },
  {
   "cell_type": "code",
   "execution_count": null,
   "id": "08192356",
   "metadata": {},
   "outputs": [],
   "source": [
    "bc.test_boll_strategy(131, 2)"
   ]
  }
 ],
 "metadata": {
  "kernelspec": {
   "display_name": "Python 3",
   "language": "python",
   "name": "python3"
  },
  "language_info": {
   "codemirror_mode": {
    "name": "ipython",
    "version": 3
   },
   "file_extension": ".py",
   "mimetype": "text/x-python",
   "name": "python",
   "nbconvert_exporter": "python",
   "pygments_lexer": "ipython3",
   "version": "3.10.11"
  }
 },
 "nbformat": 4,
 "nbformat_minor": 5
}
