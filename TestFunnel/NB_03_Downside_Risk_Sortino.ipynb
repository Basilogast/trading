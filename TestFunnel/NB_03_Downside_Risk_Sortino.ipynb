{
 "cells": [
  {
   "cell_type": "markdown",
   "id": "pregnant-transcript",
   "metadata": {},
   "source": [
    "# Downside Risk and Sortino Ratio"
   ]
  },
  {
   "cell_type": "markdown",
   "id": "statutory-journey",
   "metadata": {},
   "source": [
    "## Getting Ready"
   ]
  },
  {
   "cell_type": "code",
   "execution_count": 1,
   "id": "loving-harvey",
   "metadata": {},
   "outputs": [],
   "source": [
    "import pandas as pd\n",
    "import numpy as np\n",
    "import matplotlib.pyplot as plt\n",
    "plt.style.use(\"seaborn-v0_8\")"
   ]
  },
  {
   "cell_type": "code",
   "execution_count": 2,
   "id": "psychological-weekend",
   "metadata": {},
   "outputs": [
    {
     "data": {
      "text/html": [
       "<div>\n",
       "<style scoped>\n",
       "    .dataframe tbody tr th:only-of-type {\n",
       "        vertical-align: middle;\n",
       "    }\n",
       "\n",
       "    .dataframe tbody tr th {\n",
       "        vertical-align: top;\n",
       "    }\n",
       "\n",
       "    .dataframe thead th {\n",
       "        text-align: right;\n",
       "    }\n",
       "</style>\n",
       "<table border=\"1\" class=\"dataframe\">\n",
       "  <thead>\n",
       "    <tr style=\"text-align: right;\">\n",
       "      <th></th>\n",
       "      <th>GBP_USD</th>\n",
       "      <th>USD_GBP</th>\n",
       "      <th>Levered</th>\n",
       "      <th>Low_Vol</th>\n",
       "      <th>Random</th>\n",
       "      <th>Neutral</th>\n",
       "    </tr>\n",
       "    <tr>\n",
       "      <th>Date</th>\n",
       "      <th></th>\n",
       "      <th></th>\n",
       "      <th></th>\n",
       "      <th></th>\n",
       "      <th></th>\n",
       "      <th></th>\n",
       "    </tr>\n",
       "  </thead>\n",
       "  <tbody>\n",
       "    <tr>\n",
       "      <th>2010-01-02</th>\n",
       "      <td>-0.002733</td>\n",
       "      <td>0.002733</td>\n",
       "      <td>0.006275</td>\n",
       "      <td>0.000000</td>\n",
       "      <td>0.002733</td>\n",
       "      <td>0</td>\n",
       "    </tr>\n",
       "    <tr>\n",
       "      <th>2010-01-03</th>\n",
       "      <td>-0.001727</td>\n",
       "      <td>0.001727</td>\n",
       "      <td>0.003967</td>\n",
       "      <td>0.000000</td>\n",
       "      <td>0.000000</td>\n",
       "      <td>0</td>\n",
       "    </tr>\n",
       "    <tr>\n",
       "      <th>2010-01-04</th>\n",
       "      <td>-0.005786</td>\n",
       "      <td>0.005786</td>\n",
       "      <td>0.013259</td>\n",
       "      <td>0.000000</td>\n",
       "      <td>0.005786</td>\n",
       "      <td>0</td>\n",
       "    </tr>\n",
       "    <tr>\n",
       "      <th>2010-01-05</th>\n",
       "      <td>0.001687</td>\n",
       "      <td>-0.001687</td>\n",
       "      <td>-0.003884</td>\n",
       "      <td>0.000000</td>\n",
       "      <td>0.001687</td>\n",
       "      <td>0</td>\n",
       "    </tr>\n",
       "    <tr>\n",
       "      <th>2010-01-06</th>\n",
       "      <td>-0.005446</td>\n",
       "      <td>0.005446</td>\n",
       "      <td>0.012482</td>\n",
       "      <td>0.000000</td>\n",
       "      <td>0.005446</td>\n",
       "      <td>0</td>\n",
       "    </tr>\n",
       "    <tr>\n",
       "      <th>2010-01-07</th>\n",
       "      <td>0.005733</td>\n",
       "      <td>-0.005733</td>\n",
       "      <td>-0.013236</td>\n",
       "      <td>0.000000</td>\n",
       "      <td>0.005733</td>\n",
       "      <td>0</td>\n",
       "    </tr>\n",
       "    <tr>\n",
       "      <th>2010-01-08</th>\n",
       "      <td>-0.000087</td>\n",
       "      <td>0.000087</td>\n",
       "      <td>0.000201</td>\n",
       "      <td>0.000000</td>\n",
       "      <td>0.000000</td>\n",
       "      <td>0</td>\n",
       "    </tr>\n",
       "    <tr>\n",
       "      <th>2010-01-09</th>\n",
       "      <td>0.003004</td>\n",
       "      <td>-0.003004</td>\n",
       "      <td>-0.006922</td>\n",
       "      <td>0.000000</td>\n",
       "      <td>0.003004</td>\n",
       "      <td>0</td>\n",
       "    </tr>\n",
       "    <tr>\n",
       "      <th>2010-01-10</th>\n",
       "      <td>0.002796</td>\n",
       "      <td>-0.002796</td>\n",
       "      <td>-0.006443</td>\n",
       "      <td>0.002796</td>\n",
       "      <td>-0.000000</td>\n",
       "      <td>0</td>\n",
       "    </tr>\n",
       "    <tr>\n",
       "      <th>2010-01-11</th>\n",
       "      <td>0.003048</td>\n",
       "      <td>-0.003048</td>\n",
       "      <td>-0.007025</td>\n",
       "      <td>0.003048</td>\n",
       "      <td>-0.003048</td>\n",
       "      <td>0</td>\n",
       "    </tr>\n",
       "    <tr>\n",
       "      <th>2010-01-12</th>\n",
       "      <td>0.007175</td>\n",
       "      <td>-0.007175</td>\n",
       "      <td>-0.016581</td>\n",
       "      <td>0.000000</td>\n",
       "      <td>0.007175</td>\n",
       "      <td>0</td>\n",
       "    </tr>\n",
       "    <tr>\n",
       "      <th>2010-01-13</th>\n",
       "      <td>0.003373</td>\n",
       "      <td>-0.003373</td>\n",
       "      <td>-0.007774</td>\n",
       "      <td>-0.003373</td>\n",
       "      <td>0.003373</td>\n",
       "      <td>0</td>\n",
       "    </tr>\n",
       "    <tr>\n",
       "      <th>2010-01-14</th>\n",
       "      <td>-0.004399</td>\n",
       "      <td>0.004399</td>\n",
       "      <td>0.010089</td>\n",
       "      <td>0.000000</td>\n",
       "      <td>0.000000</td>\n",
       "      <td>0</td>\n",
       "    </tr>\n",
       "    <tr>\n",
       "      <th>2010-01-15</th>\n",
       "      <td>0.000012</td>\n",
       "      <td>-0.000012</td>\n",
       "      <td>-0.000028</td>\n",
       "      <td>0.000000</td>\n",
       "      <td>-0.000000</td>\n",
       "      <td>0</td>\n",
       "    </tr>\n",
       "    <tr>\n",
       "      <th>2010-01-16</th>\n",
       "      <td>-0.000240</td>\n",
       "      <td>0.000240</td>\n",
       "      <td>0.000552</td>\n",
       "      <td>0.000000</td>\n",
       "      <td>0.000000</td>\n",
       "      <td>0</td>\n",
       "    </tr>\n",
       "    <tr>\n",
       "      <th>2010-01-17</th>\n",
       "      <td>0.005030</td>\n",
       "      <td>-0.005030</td>\n",
       "      <td>-0.011608</td>\n",
       "      <td>0.000000</td>\n",
       "      <td>-0.005030</td>\n",
       "      <td>0</td>\n",
       "    </tr>\n",
       "    <tr>\n",
       "      <th>2010-01-18</th>\n",
       "      <td>0.001162</td>\n",
       "      <td>-0.001162</td>\n",
       "      <td>-0.002675</td>\n",
       "      <td>0.000000</td>\n",
       "      <td>0.001162</td>\n",
       "      <td>0</td>\n",
       "    </tr>\n",
       "    <tr>\n",
       "      <th>2010-01-19</th>\n",
       "      <td>-0.004275</td>\n",
       "      <td>0.004275</td>\n",
       "      <td>0.009806</td>\n",
       "      <td>0.000000</td>\n",
       "      <td>0.000000</td>\n",
       "      <td>0</td>\n",
       "    </tr>\n",
       "    <tr>\n",
       "      <th>2010-01-20</th>\n",
       "      <td>-0.005898</td>\n",
       "      <td>0.005898</td>\n",
       "      <td>0.013513</td>\n",
       "      <td>0.000000</td>\n",
       "      <td>0.005898</td>\n",
       "      <td>0</td>\n",
       "    </tr>\n",
       "    <tr>\n",
       "      <th>2010-01-21</th>\n",
       "      <td>-0.005095</td>\n",
       "      <td>0.005095</td>\n",
       "      <td>0.011679</td>\n",
       "      <td>0.000000</td>\n",
       "      <td>0.005095</td>\n",
       "      <td>0</td>\n",
       "    </tr>\n",
       "    <tr>\n",
       "      <th>2010-01-22</th>\n",
       "      <td>-0.000528</td>\n",
       "      <td>0.000528</td>\n",
       "      <td>0.001213</td>\n",
       "      <td>0.000000</td>\n",
       "      <td>0.000528</td>\n",
       "      <td>0</td>\n",
       "    </tr>\n",
       "    <tr>\n",
       "      <th>2010-01-23</th>\n",
       "      <td>-0.000093</td>\n",
       "      <td>0.000093</td>\n",
       "      <td>0.000214</td>\n",
       "      <td>-0.000093</td>\n",
       "      <td>-0.000093</td>\n",
       "      <td>0</td>\n",
       "    </tr>\n",
       "    <tr>\n",
       "      <th>2010-01-24</th>\n",
       "      <td>0.008687</td>\n",
       "      <td>-0.008687</td>\n",
       "      <td>-0.020094</td>\n",
       "      <td>0.000000</td>\n",
       "      <td>-0.008687</td>\n",
       "      <td>0</td>\n",
       "    </tr>\n",
       "    <tr>\n",
       "      <th>2010-01-25</th>\n",
       "      <td>-0.006225</td>\n",
       "      <td>0.006225</td>\n",
       "      <td>0.014259</td>\n",
       "      <td>0.000000</td>\n",
       "      <td>0.006225</td>\n",
       "      <td>0</td>\n",
       "    </tr>\n",
       "    <tr>\n",
       "      <th>2010-01-26</th>\n",
       "      <td>0.001634</td>\n",
       "      <td>-0.001634</td>\n",
       "      <td>-0.003762</td>\n",
       "      <td>0.000000</td>\n",
       "      <td>0.001634</td>\n",
       "      <td>0</td>\n",
       "    </tr>\n",
       "    <tr>\n",
       "      <th>2010-01-27</th>\n",
       "      <td>-0.001981</td>\n",
       "      <td>0.001981</td>\n",
       "      <td>0.004550</td>\n",
       "      <td>0.001981</td>\n",
       "      <td>-0.001981</td>\n",
       "      <td>0</td>\n",
       "    </tr>\n",
       "    <tr>\n",
       "      <th>2010-01-28</th>\n",
       "      <td>-0.009376</td>\n",
       "      <td>0.009376</td>\n",
       "      <td>0.021435</td>\n",
       "      <td>0.000000</td>\n",
       "      <td>0.000000</td>\n",
       "      <td>0</td>\n",
       "    </tr>\n",
       "    <tr>\n",
       "      <th>2010-01-29</th>\n",
       "      <td>-0.000038</td>\n",
       "      <td>0.000038</td>\n",
       "      <td>0.000086</td>\n",
       "      <td>0.000000</td>\n",
       "      <td>0.000000</td>\n",
       "      <td>0</td>\n",
       "    </tr>\n",
       "    <tr>\n",
       "      <th>2010-01-30</th>\n",
       "      <td>-0.002518</td>\n",
       "      <td>0.002518</td>\n",
       "      <td>0.005782</td>\n",
       "      <td>0.000000</td>\n",
       "      <td>-0.002518</td>\n",
       "      <td>0</td>\n",
       "    </tr>\n",
       "    <tr>\n",
       "      <th>2010-01-31</th>\n",
       "      <td>0.000727</td>\n",
       "      <td>-0.000727</td>\n",
       "      <td>-0.001673</td>\n",
       "      <td>0.000000</td>\n",
       "      <td>0.000727</td>\n",
       "      <td>0</td>\n",
       "    </tr>\n",
       "    <tr>\n",
       "      <th>2010-02-01</th>\n",
       "      <td>0.001027</td>\n",
       "      <td>-0.001027</td>\n",
       "      <td>-0.002364</td>\n",
       "      <td>0.000000</td>\n",
       "      <td>-0.001027</td>\n",
       "      <td>0</td>\n",
       "    </tr>\n",
       "    <tr>\n",
       "      <th>2010-02-02</th>\n",
       "      <td>-0.005033</td>\n",
       "      <td>0.005033</td>\n",
       "      <td>0.011539</td>\n",
       "      <td>0.000000</td>\n",
       "      <td>0.000000</td>\n",
       "      <td>0</td>\n",
       "    </tr>\n",
       "    <tr>\n",
       "      <th>2010-02-03</th>\n",
       "      <td>-0.008809</td>\n",
       "      <td>0.008809</td>\n",
       "      <td>0.020147</td>\n",
       "      <td>0.000000</td>\n",
       "      <td>0.008809</td>\n",
       "      <td>0</td>\n",
       "    </tr>\n",
       "    <tr>\n",
       "      <th>2010-02-04</th>\n",
       "      <td>-0.007230</td>\n",
       "      <td>0.007230</td>\n",
       "      <td>0.016552</td>\n",
       "      <td>0.000000</td>\n",
       "      <td>0.007230</td>\n",
       "      <td>0</td>\n",
       "    </tr>\n",
       "    <tr>\n",
       "      <th>2010-02-05</th>\n",
       "      <td>0.001380</td>\n",
       "      <td>-0.001380</td>\n",
       "      <td>-0.003177</td>\n",
       "      <td>-0.001380</td>\n",
       "      <td>-0.000000</td>\n",
       "      <td>0</td>\n",
       "    </tr>\n",
       "    <tr>\n",
       "      <th>2010-02-06</th>\n",
       "      <td>-0.004466</td>\n",
       "      <td>0.004466</td>\n",
       "      <td>0.010243</td>\n",
       "      <td>0.000000</td>\n",
       "      <td>0.000000</td>\n",
       "      <td>0</td>\n",
       "    </tr>\n",
       "    <tr>\n",
       "      <th>2010-02-07</th>\n",
       "      <td>-0.000481</td>\n",
       "      <td>0.000481</td>\n",
       "      <td>0.001106</td>\n",
       "      <td>0.000000</td>\n",
       "      <td>0.000481</td>\n",
       "      <td>0</td>\n",
       "    </tr>\n",
       "    <tr>\n",
       "      <th>2010-02-08</th>\n",
       "      <td>0.008574</td>\n",
       "      <td>-0.008574</td>\n",
       "      <td>-0.019831</td>\n",
       "      <td>0.000000</td>\n",
       "      <td>0.008574</td>\n",
       "      <td>0</td>\n",
       "    </tr>\n",
       "    <tr>\n",
       "      <th>2010-02-09</th>\n",
       "      <td>-0.007945</td>\n",
       "      <td>0.007945</td>\n",
       "      <td>0.018181</td>\n",
       "      <td>0.000000</td>\n",
       "      <td>0.000000</td>\n",
       "      <td>0</td>\n",
       "    </tr>\n",
       "    <tr>\n",
       "      <th>2010-02-10</th>\n",
       "      <td>0.007054</td>\n",
       "      <td>-0.007054</td>\n",
       "      <td>-0.016300</td>\n",
       "      <td>0.000000</td>\n",
       "      <td>-0.000000</td>\n",
       "      <td>0</td>\n",
       "    </tr>\n",
       "    <tr>\n",
       "      <th>2010-02-11</th>\n",
       "      <td>-0.000325</td>\n",
       "      <td>0.000325</td>\n",
       "      <td>0.000747</td>\n",
       "      <td>0.000000</td>\n",
       "      <td>-0.000325</td>\n",
       "      <td>0</td>\n",
       "    </tr>\n",
       "    <tr>\n",
       "      <th>2010-02-12</th>\n",
       "      <td>0.000070</td>\n",
       "      <td>-0.000070</td>\n",
       "      <td>-0.000161</td>\n",
       "      <td>0.000000</td>\n",
       "      <td>0.000070</td>\n",
       "      <td>0</td>\n",
       "    </tr>\n",
       "    <tr>\n",
       "      <th>2010-02-13</th>\n",
       "      <td>-0.001153</td>\n",
       "      <td>0.001153</td>\n",
       "      <td>0.002651</td>\n",
       "      <td>0.000000</td>\n",
       "      <td>0.001153</td>\n",
       "      <td>0</td>\n",
       "    </tr>\n",
       "    <tr>\n",
       "      <th>2010-02-14</th>\n",
       "      <td>-0.001525</td>\n",
       "      <td>0.001525</td>\n",
       "      <td>0.003504</td>\n",
       "      <td>0.000000</td>\n",
       "      <td>-0.001525</td>\n",
       "      <td>0</td>\n",
       "    </tr>\n",
       "    <tr>\n",
       "      <th>2010-02-15</th>\n",
       "      <td>0.008445</td>\n",
       "      <td>-0.008445</td>\n",
       "      <td>-0.019531</td>\n",
       "      <td>0.000000</td>\n",
       "      <td>0.008445</td>\n",
       "      <td>0</td>\n",
       "    </tr>\n",
       "    <tr>\n",
       "      <th>2010-02-16</th>\n",
       "      <td>-0.007615</td>\n",
       "      <td>0.007615</td>\n",
       "      <td>0.017428</td>\n",
       "      <td>-0.007615</td>\n",
       "      <td>0.007615</td>\n",
       "      <td>0</td>\n",
       "    </tr>\n",
       "    <tr>\n",
       "      <th>2010-02-17</th>\n",
       "      <td>-0.009089</td>\n",
       "      <td>0.009089</td>\n",
       "      <td>0.020782</td>\n",
       "      <td>0.000000</td>\n",
       "      <td>0.009089</td>\n",
       "      <td>0</td>\n",
       "    </tr>\n",
       "    <tr>\n",
       "      <th>2010-02-18</th>\n",
       "      <td>-0.003761</td>\n",
       "      <td>0.003761</td>\n",
       "      <td>0.008629</td>\n",
       "      <td>0.000000</td>\n",
       "      <td>0.000000</td>\n",
       "      <td>0</td>\n",
       "    </tr>\n",
       "    <tr>\n",
       "      <th>2010-02-19</th>\n",
       "      <td>0.000019</td>\n",
       "      <td>-0.000019</td>\n",
       "      <td>-0.000045</td>\n",
       "      <td>0.000000</td>\n",
       "      <td>0.000019</td>\n",
       "      <td>0</td>\n",
       "    </tr>\n",
       "    <tr>\n",
       "      <th>2010-02-20</th>\n",
       "      <td>0.000504</td>\n",
       "      <td>-0.000504</td>\n",
       "      <td>-0.001160</td>\n",
       "      <td>0.000000</td>\n",
       "      <td>-0.000000</td>\n",
       "      <td>0</td>\n",
       "    </tr>\n",
       "  </tbody>\n",
       "</table>\n",
       "</div>"
      ],
      "text/plain": [
       "             GBP_USD   USD_GBP   Levered   Low_Vol    Random  Neutral\n",
       "Date                                                                 \n",
       "2010-01-02 -0.002733  0.002733  0.006275  0.000000  0.002733        0\n",
       "2010-01-03 -0.001727  0.001727  0.003967  0.000000  0.000000        0\n",
       "2010-01-04 -0.005786  0.005786  0.013259  0.000000  0.005786        0\n",
       "2010-01-05  0.001687 -0.001687 -0.003884  0.000000  0.001687        0\n",
       "2010-01-06 -0.005446  0.005446  0.012482  0.000000  0.005446        0\n",
       "2010-01-07  0.005733 -0.005733 -0.013236  0.000000  0.005733        0\n",
       "2010-01-08 -0.000087  0.000087  0.000201  0.000000  0.000000        0\n",
       "2010-01-09  0.003004 -0.003004 -0.006922  0.000000  0.003004        0\n",
       "2010-01-10  0.002796 -0.002796 -0.006443  0.002796 -0.000000        0\n",
       "2010-01-11  0.003048 -0.003048 -0.007025  0.003048 -0.003048        0\n",
       "2010-01-12  0.007175 -0.007175 -0.016581  0.000000  0.007175        0\n",
       "2010-01-13  0.003373 -0.003373 -0.007774 -0.003373  0.003373        0\n",
       "2010-01-14 -0.004399  0.004399  0.010089  0.000000  0.000000        0\n",
       "2010-01-15  0.000012 -0.000012 -0.000028  0.000000 -0.000000        0\n",
       "2010-01-16 -0.000240  0.000240  0.000552  0.000000  0.000000        0\n",
       "2010-01-17  0.005030 -0.005030 -0.011608  0.000000 -0.005030        0\n",
       "2010-01-18  0.001162 -0.001162 -0.002675  0.000000  0.001162        0\n",
       "2010-01-19 -0.004275  0.004275  0.009806  0.000000  0.000000        0\n",
       "2010-01-20 -0.005898  0.005898  0.013513  0.000000  0.005898        0\n",
       "2010-01-21 -0.005095  0.005095  0.011679  0.000000  0.005095        0\n",
       "2010-01-22 -0.000528  0.000528  0.001213  0.000000  0.000528        0\n",
       "2010-01-23 -0.000093  0.000093  0.000214 -0.000093 -0.000093        0\n",
       "2010-01-24  0.008687 -0.008687 -0.020094  0.000000 -0.008687        0\n",
       "2010-01-25 -0.006225  0.006225  0.014259  0.000000  0.006225        0\n",
       "2010-01-26  0.001634 -0.001634 -0.003762  0.000000  0.001634        0\n",
       "2010-01-27 -0.001981  0.001981  0.004550  0.001981 -0.001981        0\n",
       "2010-01-28 -0.009376  0.009376  0.021435  0.000000  0.000000        0\n",
       "2010-01-29 -0.000038  0.000038  0.000086  0.000000  0.000000        0\n",
       "2010-01-30 -0.002518  0.002518  0.005782  0.000000 -0.002518        0\n",
       "2010-01-31  0.000727 -0.000727 -0.001673  0.000000  0.000727        0\n",
       "2010-02-01  0.001027 -0.001027 -0.002364  0.000000 -0.001027        0\n",
       "2010-02-02 -0.005033  0.005033  0.011539  0.000000  0.000000        0\n",
       "2010-02-03 -0.008809  0.008809  0.020147  0.000000  0.008809        0\n",
       "2010-02-04 -0.007230  0.007230  0.016552  0.000000  0.007230        0\n",
       "2010-02-05  0.001380 -0.001380 -0.003177 -0.001380 -0.000000        0\n",
       "2010-02-06 -0.004466  0.004466  0.010243  0.000000  0.000000        0\n",
       "2010-02-07 -0.000481  0.000481  0.001106  0.000000  0.000481        0\n",
       "2010-02-08  0.008574 -0.008574 -0.019831  0.000000  0.008574        0\n",
       "2010-02-09 -0.007945  0.007945  0.018181  0.000000  0.000000        0\n",
       "2010-02-10  0.007054 -0.007054 -0.016300  0.000000 -0.000000        0\n",
       "2010-02-11 -0.000325  0.000325  0.000747  0.000000 -0.000325        0\n",
       "2010-02-12  0.000070 -0.000070 -0.000161  0.000000  0.000070        0\n",
       "2010-02-13 -0.001153  0.001153  0.002651  0.000000  0.001153        0\n",
       "2010-02-14 -0.001525  0.001525  0.003504  0.000000 -0.001525        0\n",
       "2010-02-15  0.008445 -0.008445 -0.019531  0.000000  0.008445        0\n",
       "2010-02-16 -0.007615  0.007615  0.017428 -0.007615  0.007615        0\n",
       "2010-02-17 -0.009089  0.009089  0.020782  0.000000  0.009089        0\n",
       "2010-02-18 -0.003761  0.003761  0.008629  0.000000  0.000000        0\n",
       "2010-02-19  0.000019 -0.000019 -0.000045  0.000000  0.000019        0\n",
       "2010-02-20  0.000504 -0.000504 -0.001160  0.000000 -0.000000        0"
      ]
     },
     "execution_count": 2,
     "metadata": {},
     "output_type": "execute_result"
    }
   ],
   "source": [
    "returns = pd.read_csv(\"returns.csv\", index_col = \"Date\", parse_dates = [\"Date\"])\n",
    "returns.head(50)"
   ]
  },
  {
   "cell_type": "code",
   "execution_count": 3,
   "id": "spanish-flush",
   "metadata": {},
   "outputs": [
    {
     "data": {
      "image/png": "[encoded data removed]",
      "text/plain": [
       "<Figure size 1200x800 with 1 Axes>"
      ]
     },
     "metadata": {},
     "output_type": "display_data"
    }
   ],
   "source": [
    "returns.cumsum().apply(np.exp).plot(figsize = (12, 8))\n",
    "plt.show()"
   ]
  },
  {
   "cell_type": "code",
   "execution_count": 4,
   "id": "regulated-newton",
   "metadata": {
    "scrolled": true
   },
   "outputs": [
    {
     "data": {
      "text/plain": [
       "285.5590909090909"
      ]
     },
     "execution_count": 4,
     "metadata": {},
     "output_type": "execute_result"
    }
   ],
   "source": [
    "td_year = (returns.count() / ((returns.index[-1] - returns.index[0]).days / 365.25)).iloc[0]\n",
    "td_year"
   ]
  },
  {
   "cell_type": "code",
   "execution_count": null,
   "id": "b49d49d2",
   "metadata": {},
   "outputs": [],
   "source": []
  },
  {
   "cell_type": "markdown",
   "id": "faced-fighter",
   "metadata": {},
   "source": [
    "## Downside Deviation (Semi-Deviation)"
   ]
  },
  {
   "cell_type": "code",
   "execution_count": 5,
   "id": "18b6e5e6",
   "metadata": {},
   "outputs": [
    {
     "data": {
      "text/html": [
       "<div>\n",
       "<style scoped>\n",
       "    .dataframe tbody tr th:only-of-type {\n",
       "        vertical-align: middle;\n",
       "    }\n",
       "\n",
       "    .dataframe tbody tr th {\n",
       "        vertical-align: top;\n",
       "    }\n",
       "\n",
       "    .dataframe thead th {\n",
       "        text-align: right;\n",
       "    }\n",
       "</style>\n",
       "<table border=\"1\" class=\"dataframe\">\n",
       "  <thead>\n",
       "    <tr style=\"text-align: right;\">\n",
       "      <th></th>\n",
       "      <th>GBP_USD</th>\n",
       "      <th>USD_GBP</th>\n",
       "      <th>Levered</th>\n",
       "      <th>Low_Vol</th>\n",
       "      <th>Random</th>\n",
       "      <th>Neutral</th>\n",
       "    </tr>\n",
       "    <tr>\n",
       "      <th>Date</th>\n",
       "      <th></th>\n",
       "      <th></th>\n",
       "      <th></th>\n",
       "      <th></th>\n",
       "      <th></th>\n",
       "      <th></th>\n",
       "    </tr>\n",
       "  </thead>\n",
       "  <tbody>\n",
       "    <tr>\n",
       "      <th>2010-01-02</th>\n",
       "      <td>-0.002733</td>\n",
       "      <td>0.002733</td>\n",
       "      <td>0.006275</td>\n",
       "      <td>0.0</td>\n",
       "      <td>0.002733</td>\n",
       "      <td>0</td>\n",
       "    </tr>\n",
       "    <tr>\n",
       "      <th>2010-01-03</th>\n",
       "      <td>-0.001727</td>\n",
       "      <td>0.001727</td>\n",
       "      <td>0.003967</td>\n",
       "      <td>0.0</td>\n",
       "      <td>0.000000</td>\n",
       "      <td>0</td>\n",
       "    </tr>\n",
       "    <tr>\n",
       "      <th>2010-01-04</th>\n",
       "      <td>-0.005786</td>\n",
       "      <td>0.005786</td>\n",
       "      <td>0.013259</td>\n",
       "      <td>0.0</td>\n",
       "      <td>0.005786</td>\n",
       "      <td>0</td>\n",
       "    </tr>\n",
       "    <tr>\n",
       "      <th>2010-01-05</th>\n",
       "      <td>0.001687</td>\n",
       "      <td>-0.001687</td>\n",
       "      <td>-0.003884</td>\n",
       "      <td>0.0</td>\n",
       "      <td>0.001687</td>\n",
       "      <td>0</td>\n",
       "    </tr>\n",
       "    <tr>\n",
       "      <th>2010-01-06</th>\n",
       "      <td>-0.005446</td>\n",
       "      <td>0.005446</td>\n",
       "      <td>0.012482</td>\n",
       "      <td>0.0</td>\n",
       "      <td>0.005446</td>\n",
       "      <td>0</td>\n",
       "    </tr>\n",
       "    <tr>\n",
       "      <th>...</th>\n",
       "      <td>...</td>\n",
       "      <td>...</td>\n",
       "      <td>...</td>\n",
       "      <td>...</td>\n",
       "      <td>...</td>\n",
       "      <td>...</td>\n",
       "    </tr>\n",
       "    <tr>\n",
       "      <th>2020-12-23</th>\n",
       "      <td>0.005004</td>\n",
       "      <td>-0.005004</td>\n",
       "      <td>-0.011548</td>\n",
       "      <td>0.0</td>\n",
       "      <td>-0.005004</td>\n",
       "      <td>0</td>\n",
       "    </tr>\n",
       "    <tr>\n",
       "      <th>2020-12-27</th>\n",
       "      <td>-0.008278</td>\n",
       "      <td>0.008278</td>\n",
       "      <td>0.018937</td>\n",
       "      <td>0.0</td>\n",
       "      <td>-0.008278</td>\n",
       "      <td>0</td>\n",
       "    </tr>\n",
       "    <tr>\n",
       "      <th>2020-12-28</th>\n",
       "      <td>0.003799</td>\n",
       "      <td>-0.003799</td>\n",
       "      <td>-0.008760</td>\n",
       "      <td>0.0</td>\n",
       "      <td>-0.003799</td>\n",
       "      <td>0</td>\n",
       "    </tr>\n",
       "    <tr>\n",
       "      <th>2020-12-29</th>\n",
       "      <td>0.009054</td>\n",
       "      <td>-0.009054</td>\n",
       "      <td>-0.020948</td>\n",
       "      <td>0.0</td>\n",
       "      <td>-0.000000</td>\n",
       "      <td>0</td>\n",
       "    </tr>\n",
       "    <tr>\n",
       "      <th>2020-12-30</th>\n",
       "      <td>0.003012</td>\n",
       "      <td>-0.003012</td>\n",
       "      <td>-0.006941</td>\n",
       "      <td>0.0</td>\n",
       "      <td>-0.003012</td>\n",
       "      <td>0</td>\n",
       "    </tr>\n",
       "  </tbody>\n",
       "</table>\n",
       "<p>3139 rows × 6 columns</p>\n",
       "</div>"
      ],
      "text/plain": [
       "             GBP_USD   USD_GBP   Levered  Low_Vol    Random  Neutral\n",
       "Date                                                                \n",
       "2010-01-02 -0.002733  0.002733  0.006275      0.0  0.002733        0\n",
       "2010-01-03 -0.001727  0.001727  0.003967      0.0  0.000000        0\n",
       "2010-01-04 -0.005786  0.005786  0.013259      0.0  0.005786        0\n",
       "2010-01-05  0.001687 -0.001687 -0.003884      0.0  0.001687        0\n",
       "2010-01-06 -0.005446  0.005446  0.012482      0.0  0.005446        0\n",
       "...              ...       ...       ...      ...       ...      ...\n",
       "2020-12-23  0.005004 -0.005004 -0.011548      0.0 -0.005004        0\n",
       "2020-12-27 -0.008278  0.008278  0.018937      0.0 -0.008278        0\n",
       "2020-12-28  0.003799 -0.003799 -0.008760      0.0 -0.003799        0\n",
       "2020-12-29  0.009054 -0.009054 -0.020948      0.0 -0.000000        0\n",
       "2020-12-30  0.003012 -0.003012 -0.006941      0.0 -0.003012        0\n",
       "\n",
       "[3139 rows x 6 columns]"
      ]
     },
     "execution_count": 5,
     "metadata": {},
     "output_type": "execute_result"
    }
   ],
   "source": [
    "returns"
   ]
  },
  {
   "cell_type": "code",
   "execution_count": 6,
   "id": "3226b532",
   "metadata": {},
   "outputs": [],
   "source": [
    "symbol = \"USD_GBP\""
   ]
  },
  {
   "cell_type": "code",
   "execution_count": 7,
   "id": "stunning-flashing",
   "metadata": {},
   "outputs": [],
   "source": [
    "TMR = 0 # target minimum return"
   ]
  },
  {
   "cell_type": "code",
   "execution_count": 8,
   "id": "altered-booth",
   "metadata": {},
   "outputs": [
    {
     "data": {
      "text/plain": [
       "Date\n",
       "2010-01-02    0.002733\n",
       "2010-01-03    0.001727\n",
       "2010-01-04    0.005786\n",
       "2010-01-05   -0.001687\n",
       "2010-01-06    0.005446\n",
       "                ...   \n",
       "2020-12-23   -0.005004\n",
       "2020-12-27    0.008278\n",
       "2020-12-28   -0.003799\n",
       "2020-12-29   -0.009054\n",
       "2020-12-30   -0.003012\n",
       "Name: USD_GBP, Length: 3139, dtype: float64"
      ]
     },
     "execution_count": 8,
     "metadata": {},
     "output_type": "execute_result"
    }
   ],
   "source": [
    "excess_returns = returns[symbol] - TMR # excess returns over TMR\n",
    "excess_returns"
   ]
  },
  {
   "cell_type": "code",
   "execution_count": 9,
   "id": "07d82da4",
   "metadata": {},
   "outputs": [
    {
     "data": {
      "text/plain": [
       "array([ 0.        ,  0.        ,  0.        , ..., -0.00379932,\n",
       "       -0.00905404, -0.00301208])"
      ]
     },
     "execution_count": 9,
     "metadata": {},
     "output_type": "execute_result"
    }
   ],
   "source": [
    "excess_returns = np.where(excess_returns < 0, excess_returns, 0) # setting postive excess returns to zero. \n",
    "excess_returns"
   ]
  },
  {
   "cell_type": "code",
   "execution_count": 10,
   "id": "sonic-screw",
   "metadata": {},
   "outputs": [
    {
     "data": {
      "text/plain": [
       "0.0036313265134239915"
      ]
     },
     "execution_count": 10,
     "metadata": {},
     "output_type": "execute_result"
    }
   ],
   "source": [
    "downside_deviation = np.sqrt(np.mean(excess_returns**2)) \n",
    "downside_deviation"
   ]
  },
  {
   "cell_type": "code",
   "execution_count": null,
   "id": "7b9819a2",
   "metadata": {},
   "outputs": [],
   "source": []
  },
  {
   "cell_type": "markdown",
   "id": "ahead-premiere",
   "metadata": {},
   "source": [
    "## Sortino Ratio"
   ]
  },
  {
   "cell_type": "code",
   "execution_count": 11,
   "id": "6bf49bf2",
   "metadata": {},
   "outputs": [
    {
     "data": {
      "text/plain": [
       "0.0036313265134239915"
      ]
     },
     "execution_count": 11,
     "metadata": {},
     "output_type": "execute_result"
    }
   ],
   "source": [
    "downside_deviation"
   ]
  },
  {
   "cell_type": "code",
   "execution_count": 12,
   "id": "labeled-terry",
   "metadata": {},
   "outputs": [
    {
     "data": {
      "text/plain": [
       "5.333811413562378e-05"
      ]
     },
     "execution_count": 12,
     "metadata": {},
     "output_type": "execute_result"
    }
   ],
   "source": [
    "mean = returns[symbol].mean() \n",
    "mean"
   ]
  },
  {
   "cell_type": "code",
   "execution_count": 13,
   "id": "familiar-recommendation",
   "metadata": {},
   "outputs": [
    {
     "data": {
      "text/plain": [
       "0.24821061528136432"
      ]
     },
     "execution_count": 13,
     "metadata": {},
     "output_type": "execute_result"
    }
   ],
   "source": [
    "sortino = (mean - TMR) / downside_deviation * np.sqrt(td_year)\n",
    "sortino"
   ]
  },
  {
   "cell_type": "code",
   "execution_count": null,
   "id": "03b16918",
   "metadata": {},
   "outputs": [],
   "source": []
  },
  {
   "cell_type": "markdown",
   "id": "organizational-indie",
   "metadata": {},
   "source": [
    "## Putting everything toghether"
   ]
  },
  {
   "cell_type": "code",
   "execution_count": 14,
   "id": "6fae042d",
   "metadata": {},
   "outputs": [],
   "source": [
    "import pandas as pd\n",
    "import numpy as np"
   ]
  },
  {
   "cell_type": "code",
   "execution_count": 15,
   "id": "c8de91ac",
   "metadata": {},
   "outputs": [
    {
     "data": {
      "text/html": [
       "<div>\n",
       "<style scoped>\n",
       "    .dataframe tbody tr th:only-of-type {\n",
       "        vertical-align: middle;\n",
       "    }\n",
       "\n",
       "    .dataframe tbody tr th {\n",
       "        vertical-align: top;\n",
       "    }\n",
       "\n",
       "    .dataframe thead th {\n",
       "        text-align: right;\n",
       "    }\n",
       "</style>\n",
       "<table border=\"1\" class=\"dataframe\">\n",
       "  <thead>\n",
       "    <tr style=\"text-align: right;\">\n",
       "      <th></th>\n",
       "      <th>GBP_USD</th>\n",
       "      <th>USD_GBP</th>\n",
       "      <th>Levered</th>\n",
       "      <th>Low_Vol</th>\n",
       "      <th>Random</th>\n",
       "      <th>Neutral</th>\n",
       "    </tr>\n",
       "    <tr>\n",
       "      <th>Date</th>\n",
       "      <th></th>\n",
       "      <th></th>\n",
       "      <th></th>\n",
       "      <th></th>\n",
       "      <th></th>\n",
       "      <th></th>\n",
       "    </tr>\n",
       "  </thead>\n",
       "  <tbody>\n",
       "    <tr>\n",
       "      <th>2010-01-02</th>\n",
       "      <td>-0.002733</td>\n",
       "      <td>0.002733</td>\n",
       "      <td>0.006275</td>\n",
       "      <td>0.0</td>\n",
       "      <td>0.002733</td>\n",
       "      <td>0</td>\n",
       "    </tr>\n",
       "    <tr>\n",
       "      <th>2010-01-03</th>\n",
       "      <td>-0.001727</td>\n",
       "      <td>0.001727</td>\n",
       "      <td>0.003967</td>\n",
       "      <td>0.0</td>\n",
       "      <td>0.000000</td>\n",
       "      <td>0</td>\n",
       "    </tr>\n",
       "    <tr>\n",
       "      <th>2010-01-04</th>\n",
       "      <td>-0.005786</td>\n",
       "      <td>0.005786</td>\n",
       "      <td>0.013259</td>\n",
       "      <td>0.0</td>\n",
       "      <td>0.005786</td>\n",
       "      <td>0</td>\n",
       "    </tr>\n",
       "    <tr>\n",
       "      <th>2010-01-05</th>\n",
       "      <td>0.001687</td>\n",
       "      <td>-0.001687</td>\n",
       "      <td>-0.003884</td>\n",
       "      <td>0.0</td>\n",
       "      <td>0.001687</td>\n",
       "      <td>0</td>\n",
       "    </tr>\n",
       "    <tr>\n",
       "      <th>2010-01-06</th>\n",
       "      <td>-0.005446</td>\n",
       "      <td>0.005446</td>\n",
       "      <td>0.012482</td>\n",
       "      <td>0.0</td>\n",
       "      <td>0.005446</td>\n",
       "      <td>0</td>\n",
       "    </tr>\n",
       "    <tr>\n",
       "      <th>...</th>\n",
       "      <td>...</td>\n",
       "      <td>...</td>\n",
       "      <td>...</td>\n",
       "      <td>...</td>\n",
       "      <td>...</td>\n",
       "      <td>...</td>\n",
       "    </tr>\n",
       "    <tr>\n",
       "      <th>2020-12-23</th>\n",
       "      <td>0.005004</td>\n",
       "      <td>-0.005004</td>\n",
       "      <td>-0.011548</td>\n",
       "      <td>0.0</td>\n",
       "      <td>-0.005004</td>\n",
       "      <td>0</td>\n",
       "    </tr>\n",
       "    <tr>\n",
       "      <th>2020-12-27</th>\n",
       "      <td>-0.008278</td>\n",
       "      <td>0.008278</td>\n",
       "      <td>0.018937</td>\n",
       "      <td>0.0</td>\n",
       "      <td>-0.008278</td>\n",
       "      <td>0</td>\n",
       "    </tr>\n",
       "    <tr>\n",
       "      <th>2020-12-28</th>\n",
       "      <td>0.003799</td>\n",
       "      <td>-0.003799</td>\n",
       "      <td>-0.008760</td>\n",
       "      <td>0.0</td>\n",
       "      <td>-0.003799</td>\n",
       "      <td>0</td>\n",
       "    </tr>\n",
       "    <tr>\n",
       "      <th>2020-12-29</th>\n",
       "      <td>0.009054</td>\n",
       "      <td>-0.009054</td>\n",
       "      <td>-0.020948</td>\n",
       "      <td>0.0</td>\n",
       "      <td>-0.000000</td>\n",
       "      <td>0</td>\n",
       "    </tr>\n",
       "    <tr>\n",
       "      <th>2020-12-30</th>\n",
       "      <td>0.003012</td>\n",
       "      <td>-0.003012</td>\n",
       "      <td>-0.006941</td>\n",
       "      <td>0.0</td>\n",
       "      <td>-0.003012</td>\n",
       "      <td>0</td>\n",
       "    </tr>\n",
       "  </tbody>\n",
       "</table>\n",
       "<p>3139 rows × 6 columns</p>\n",
       "</div>"
      ],
      "text/plain": [
       "             GBP_USD   USD_GBP   Levered  Low_Vol    Random  Neutral\n",
       "Date                                                                \n",
       "2010-01-02 -0.002733  0.002733  0.006275      0.0  0.002733        0\n",
       "2010-01-03 -0.001727  0.001727  0.003967      0.0  0.000000        0\n",
       "2010-01-04 -0.005786  0.005786  0.013259      0.0  0.005786        0\n",
       "2010-01-05  0.001687 -0.001687 -0.003884      0.0  0.001687        0\n",
       "2010-01-06 -0.005446  0.005446  0.012482      0.0  0.005446        0\n",
       "...              ...       ...       ...      ...       ...      ...\n",
       "2020-12-23  0.005004 -0.005004 -0.011548      0.0 -0.005004        0\n",
       "2020-12-27 -0.008278  0.008278  0.018937      0.0 -0.008278        0\n",
       "2020-12-28  0.003799 -0.003799 -0.008760      0.0 -0.003799        0\n",
       "2020-12-29  0.009054 -0.009054 -0.020948      0.0 -0.000000        0\n",
       "2020-12-30  0.003012 -0.003012 -0.006941      0.0 -0.003012        0\n",
       "\n",
       "[3139 rows x 6 columns]"
      ]
     },
     "execution_count": 15,
     "metadata": {},
     "output_type": "execute_result"
    }
   ],
   "source": [
    "returns = pd.read_csv(\"returns.csv\", index_col = \"Date\", parse_dates = [\"Date\"])\n",
    "returns"
   ]
  },
  {
   "cell_type": "code",
   "execution_count": 16,
   "id": "looking-festival",
   "metadata": {},
   "outputs": [],
   "source": [
    "def sortino(series, TMR = 0):\n",
    "    excess_returns = (series - TMR)\n",
    "    downside_deviation = np.sqrt(np.mean(np.where(excess_returns < 0, excess_returns, 0)**2))\n",
    "    if downside_deviation == 0:\n",
    "        return np.nan\n",
    "    else:\n",
    "        sortino = (series.mean() - TMR) / downside_deviation * np.sqrt(series.count() / ((series.index[-1] - series.index[0]).days / 365.25))\n",
    "        return sortino"
   ]
  },
  {
   "cell_type": "code",
   "execution_count": 17,
   "id": "increasing-packaging",
   "metadata": {},
   "outputs": [
    {
     "data": {
      "text/plain": [
       "Low_Vol    0.396547\n",
       "USD_GBP    0.248211\n",
       "Random     0.182185\n",
       "Levered    0.159784\n",
       "GBP_USD   -0.225971\n",
       "Neutral         NaN\n",
       "dtype: float64"
      ]
     },
     "execution_count": 17,
     "metadata": {},
     "output_type": "execute_result"
    }
   ],
   "source": [
    "returns.apply(sortino).sort_values(ascending = False)"
   ]
  },
  {
   "cell_type": "code",
   "execution_count": 18,
   "id": "b4af5259",
   "metadata": {},
   "outputs": [
    {
     "data": {
      "text/plain": [
       "0.24821061528136432"
      ]
     },
     "execution_count": 18,
     "metadata": {},
     "output_type": "execute_result"
    }
   ],
   "source": [
    "sortino(series = returns.USD_GBP, TMR = 0)"
   ]
  },
  {
   "cell_type": "code",
   "execution_count": null,
   "id": "82e43295",
   "metadata": {},
   "outputs": [],
   "source": []
  },
  {
   "cell_type": "markdown",
   "id": "0bd0c776",
   "metadata": {},
   "source": [
    "-------------------------------------"
   ]
  },
  {
   "cell_type": "markdown",
   "id": "c290fb1b",
   "metadata": {},
   "source": [
    "## Coding Challenge"
   ]
  },
  {
   "cell_type": "markdown",
   "id": "3746827c",
   "metadata": {},
   "source": [
    "__Calculate and compare__ the __Sortino Ratio__ (assumption: TMR == 0) for __30 large US stocks__ that currently form the Dow Jones Industrial Average Index (\"Dow Jones\") for the time period between April 2019 and June 2021. "
   ]
  },
  {
   "cell_type": "markdown",
   "id": "941f8441",
   "metadata": {},
   "source": [
    "__Hint:__ You can __import__ the price data from __\"Dow_Jones.csv\"__.\n",
    " "
   ]
  },
  {
   "cell_type": "markdown",
   "id": "f012bb3d",
   "metadata": {},
   "source": [
    "Determine the __best performing stock__ and the __worst performing stock__ according to the Sortino Ratio."
   ]
  },
  {
   "cell_type": "markdown",
   "id": "9fc2a8c5",
   "metadata": {},
   "source": [
    "__Compare__ Sortino Ratio and Sharpe Ratio. Does the __ranking change__?"
   ]
  },
  {
   "cell_type": "markdown",
   "id": "21540e2a",
   "metadata": {},
   "source": [
    "(Remark: Dividends are ignored here. Hence, for simplicity reasons, the Sortino Ratio is based on Price Returns only. As a consequence, dividend-paying stocks are getting penalized.) "
   ]
  },
  {
   "cell_type": "markdown",
   "id": "cfcfd2ab",
   "metadata": {},
   "source": [
    "## +++ Please stop here in case you don´t want to see the solution!!! +++++"
   ]
  },
  {
   "cell_type": "code",
   "execution_count": null,
   "id": "58f086a9",
   "metadata": {},
   "outputs": [],
   "source": []
  },
  {
   "cell_type": "code",
   "execution_count": null,
   "id": "5418ee2a",
   "metadata": {},
   "outputs": [],
   "source": []
  },
  {
   "cell_type": "code",
   "execution_count": null,
   "id": "ad37abd3",
   "metadata": {},
   "outputs": [],
   "source": []
  },
  {
   "cell_type": "code",
   "execution_count": null,
   "id": "a267fefc",
   "metadata": {},
   "outputs": [],
   "source": []
  },
  {
   "cell_type": "markdown",
   "id": "2e66e268",
   "metadata": {},
   "source": [
    "## Coding Challenge Solution"
   ]
  },
  {
   "cell_type": "code",
   "execution_count": null,
   "id": "b9ffa54d",
   "metadata": {},
   "outputs": [],
   "source": [
    "import pandas as pd\n",
    "import numpy as np"
   ]
  },
  {
   "cell_type": "code",
   "execution_count": null,
   "id": "1f8391b9",
   "metadata": {},
   "outputs": [],
   "source": [
    "df = pd.read_csv(\"Dow_Jones.csv\", index_col = \"Date\", parse_dates = [\"Date\"])\n",
    "df"
   ]
  },
  {
   "cell_type": "code",
   "execution_count": null,
   "id": "b12741d1",
   "metadata": {},
   "outputs": [],
   "source": [
    "returns = np.log(df / df.shift()) # daily log returns\n",
    "returns"
   ]
  },
  {
   "cell_type": "code",
   "execution_count": null,
   "id": "ac752b18",
   "metadata": {},
   "outputs": [],
   "source": [
    "def sortino(series, TMR = 0):\n",
    "    excess_returns = (series - TMR)\n",
    "    downside_deviation = np.sqrt(np.mean(np.where(excess_returns < 0, excess_returns, 0)**2))\n",
    "    if downside_deviation == 0:\n",
    "        return np.nan\n",
    "    else:\n",
    "        sortino = (series.mean() - TMR) / downside_deviation * np.sqrt(series.count() / ((series.index[-1] - series.index[0]).days / 365.25))\n",
    "        return sortino"
   ]
  },
  {
   "cell_type": "code",
   "execution_count": null,
   "id": "9db8d47a",
   "metadata": {
    "scrolled": true
   },
   "outputs": [],
   "source": [
    "sort = returns.apply(sortino).sort_values(ascending = False)\n",
    "sort"
   ]
  },
  {
   "cell_type": "markdown",
   "id": "697a3fe6",
   "metadata": {},
   "source": [
    "Best Performing Stock: __Apple__ (AAPL) <br>\n",
    "Worst Performing Stock: __Non-determinable__ (note: you can´t compare negative Sortino Ratios)"
   ]
  },
  {
   "cell_type": "code",
   "execution_count": null,
   "id": "3aca1e50",
   "metadata": {},
   "outputs": [],
   "source": [
    "def sharpe(series, rf = 0):\n",
    "    \n",
    "    if series.std() == 0:\n",
    "        return np.nan\n",
    "    else:\n",
    "        return (series.mean() - rf) / series.std() * np.sqrt(series.count() / ((series.index[-1] - series.index[0]).days / 365.25))"
   ]
  },
  {
   "cell_type": "code",
   "execution_count": null,
   "id": "c710be98",
   "metadata": {},
   "outputs": [],
   "source": [
    "sha = returns.apply(sharpe).sort_values(ascending = False)\n",
    "sha"
   ]
  },
  {
   "cell_type": "code",
   "execution_count": null,
   "id": "5a622030",
   "metadata": {},
   "outputs": [],
   "source": [
    "merged = pd.concat([sort, sha], axis = 1)\n",
    "merged"
   ]
  },
  {
   "cell_type": "code",
   "execution_count": null,
   "id": "c5530b6e",
   "metadata": {},
   "outputs": [],
   "source": [
    "merged.columns = [\"Sortino\", \"Sharpe\"]"
   ]
  },
  {
   "cell_type": "code",
   "execution_count": null,
   "id": "1eabe2e5",
   "metadata": {},
   "outputs": [],
   "source": [
    "merged.rank(ascending = False)"
   ]
  },
  {
   "cell_type": "markdown",
   "id": "66befb82",
   "metadata": {},
   "source": [
    "-> Few Differences. __Disney gets better ranked__ with Sortino (-3) while __The Home Depot gets penalized__ by Sortino (+3)."
   ]
  },
  {
   "cell_type": "code",
   "execution_count": null,
   "id": "adf75674",
   "metadata": {},
   "outputs": [],
   "source": []
  }
 ],
 "metadata": {
  "kernelspec": {
   "display_name": "Python 3",
   "language": "python",
   "name": "python3"
  },
  "language_info": {
   "codemirror_mode": {
    "name": "ipython",
    "version": 3
   },
   "file_extension": ".py",
   "mimetype": "text/x-python",
   "name": "python",
   "nbconvert_exporter": "python",
   "pygments_lexer": "ipython3",
   "version": "3.10.11"
  }
 },
 "nbformat": 4,
 "nbformat_minor": 5
}
